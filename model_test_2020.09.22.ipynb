{
 "cells": [
  {
   "cell_type": "markdown",
   "metadata": {},
   "source": [
    "# testing models from CMIP6 historical runs\n",
    "This script opens up CMIP6 historical model run files with data on precipitation pr and surface temperature tas and calculates monthly anomalies for each region.  Then tests the models for each region.  \n"
   ]
  },
  {
   "cell_type": "code",
   "execution_count": 1,
   "metadata": {},
   "outputs": [],
   "source": [
    "import xarray as xr, matplotlib.pyplot as plt\n",
    "#import sys \n",
    "#sys.path.append('') # use this if the function file is in a different directory to the notebook\n",
    "from importlib import reload # need to use this if I edit a function file\n",
    "import os\n",
    "import numpy as np\n",
    "import pandas as pd\n",
    "import cartopy.crs as ccrs # to add in continents and change map projections \n",
    "from matplotlib.colors import LinearSegmentedColormap # to change colour bar????"
   ]
  },
  {
   "cell_type": "code",
   "execution_count": 2,
   "metadata": {},
   "outputs": [],
   "source": [
    "# import custom functions\n",
    "import anomaly_function as func # imports the function\n",
    "import model_figures as func2"
   ]
  },
  {
   "cell_type": "code",
   "execution_count": 3,
   "metadata": {},
   "outputs": [],
   "source": [
    "# use this to reload the function file if I make any edits to it\n",
    "func = reload(func) \n",
    "func2 = reload(func2)"
   ]
  },
  {
   "cell_type": "code",
   "execution_count": 4,
   "metadata": {
    "scrolled": false
   },
   "outputs": [
    {
     "name": "stdout",
     "output_type": "stream",
     "text": [
      "v20200302\r\n"
     ]
    }
   ],
   "source": [
    "!ls /g/data/lp01/CMIP6/CMIP/CAS/CAS-ESM2-0/historical/r1i1p1f1/Amon/pr/gr1.5"
   ]
  },
  {
   "cell_type": "code",
   "execution_count": 5,
   "metadata": {
    "scrolled": false
   },
   "outputs": [
    {
     "name": "stdout",
     "output_type": "stream",
     "text": [
      "/g/data/lp01/CMIP6/CMIP/ /historical/r1i1p1f1/Amon/tas/gr1.5/ /historical/r1i1p1f1/Amon/pr/gr1.5/\n"
     ]
    }
   ],
   "source": [
    "# store each section of the directory as a string\n",
    "institution_dir = '/g/data/lp01/CMIP6/CMIP/'\n",
    "tas_dir = '/historical/r1i1p1f1/Amon/tas/gr1.5/'\n",
    "pr_dir = '/historical/r1i1p1f1/Amon/pr/gr1.5/'\n",
    "print(institution_dir, tas_dir, pr_dir)"
   ]
  },
  {
   "cell_type": "markdown",
   "metadata": {},
   "source": [
    "## Read in model data"
   ]
  },
  {
   "cell_type": "code",
   "execution_count": 6,
   "metadata": {
    "scrolled": true
   },
   "outputs": [
    {
     "name": "stdout",
     "output_type": "stream",
     "text": [
      "46 model paths found and loaded into the dictionary \"models\"\n",
      "MPI-ESM-1-2-HAM /g/data/lp01/CMIP6/CMIP/HAMMOZ-Consortium/MPI-ESM-1-2-HAM/historical/r1i1p1f1/Amon/tas/gr1.5/v20190627/*.nc\n",
      "NESM3 /g/data/lp01/CMIP6/CMIP/NUIST/NESM3/historical/r1i1p1f1/Amon/tas/gr1.5/v20190630/*.nc\n",
      "Path for MCM-UA-1-0 does not exist\n",
      "ACCESS-CM2 /g/data/lp01/CMIP6/CMIP/CSIRO-ARCCSS/ACCESS-CM2/historical/r1i1p1f1/Amon/tas/gr1.5/v20190919/*.nc\n",
      "Model MPI-ESM1-2-HR has different time so is now removed\n",
      "MPI-ESM1-2-LR /g/data/lp01/CMIP6/CMIP/MPI-M/MPI-ESM1-2-LR/historical/r1i1p1f1/Amon/tas/gr1.5/v20190710/*.nc\n",
      "IPSL-CM6A-LR /g/data/lp01/CMIP6/CMIP/IPSL/IPSL-CM6A-LR/historical/r1i1p1f1/Amon/tas/gr1.5/v20180803/*.nc\n",
      "CAS-ESM2-0 /g/data/lp01/CMIP6/CMIP/CAS/CAS-ESM2-0/historical/r1i1p1f1/Amon/tas/gr1.5/v20200302/*.nc\n",
      "FGOALS-f3-L /g/data/lp01/CMIP6/CMIP/CAS/FGOALS-f3-L/historical/r1i1p1f1/Amon/tas/gr1.5/v20190927/*.nc\n",
      "FGOALS-g3 /g/data/lp01/CMIP6/CMIP/CAS/FGOALS-g3/historical/r1i1p1f1/Amon/tas/gr1.5/v20190818/*.nc\n",
      "BCC-ESM1 /g/data/lp01/CMIP6/CMIP/BCC/BCC-ESM1/historical/r1i1p1f1/Amon/tas/gr1.5/v20181214/*.nc\n",
      "BCC-CSM2-MR /g/data/lp01/CMIP6/CMIP/BCC/BCC-CSM2-MR/historical/r1i1p1f1/Amon/tas/gr1.5/v20181126/*.nc\n",
      "CIESM /g/data/lp01/CMIP6/CMIP/THU/CIESM/historical/r1i1p1f1/Amon/tas/gr1.5/v20191228/*.nc\n",
      "TaiESM1 /g/data/lp01/CMIP6/CMIP/AS-RCEC/TaiESM1/historical/r1i1p1f1/Amon/tas/gr1.5/v20200218/*.nc\n",
      "KACE-1-0-G /g/data/lp01/CMIP6/CMIP/NIMS-KMA/KACE-1-0-G/historical/r1i1p1f1/Amon/tas/gr1.5/v20191028/*.nc\n",
      "CMCC-CM2-SR5 /g/data/lp01/CMIP6/CMIP/CMCC/CMCC-CM2-SR5/historical/r1i1p1f1/Amon/tas/gr1.5/v20200616/*.nc\n",
      "GISS-E2-1-G-CC /g/data/lp01/CMIP6/CMIP/NASA-GISS/GISS-E2-1-G-CC/historical/r1i1p1f1/Amon/tas/gr1.5/v20190815/*.nc\n",
      "GISS-E2-1-H /g/data/lp01/CMIP6/CMIP/NASA-GISS/GISS-E2-1-H/historical/r1i1p1f1/Amon/tas/gr1.5/v20190403/*.nc\n",
      "GISS-E2-1-G /g/data/lp01/CMIP6/CMIP/NASA-GISS/GISS-E2-1-G/historical/r1i1p1f1/Amon/tas/gr1.5/v20180827/*.nc\n",
      "KIOST-ESM /g/data/lp01/CMIP6/CMIP/KIOST/KIOST-ESM/historical/r1i1p1f1/Amon/tas/gr1.5/v20191106/*.nc\n",
      "AWI-CM-1-1-MR /g/data/lp01/CMIP6/CMIP/AWI/AWI-CM-1-1-MR/historical/r1i1p1f1/Amon/tas/gr1.5/v20200511/*.nc\n",
      "AWI-ESM-1-1-LR /g/data/lp01/CMIP6/CMIP/AWI/AWI-ESM-1-1-LR/historical/r1i1p1f1/Amon/tas/gr1.5/v20200212/*.nc\n",
      "MIROC6 /g/data/lp01/CMIP6/CMIP/MIROC/MIROC6/historical/r1i1p1f1/Amon/tas/gr1.5/v20181212/*.nc\n",
      "MRI-ESM2-0 /g/data/lp01/CMIP6/CMIP/MRI/MRI-ESM2-0/historical/r1i1p1f1/Amon/tas/gr1.5/v20190222/*.nc\n",
      "FIO-ESM-2-0 /g/data/lp01/CMIP6/CMIP/FIO-QLNM/FIO-ESM-2-0/historical/r1i1p1f1/Amon/tas/gr1.5/v20191115/*.nc\n",
      "CanESM5 /g/data/lp01/CMIP6/CMIP/CCCma/CanESM5/historical/r1i1p1f1/Amon/tas/gr1.5/v20190429/*.nc\n",
      "ACCESS-ESM1-5 /g/data/lp01/CMIP6/CMIP/CSIRO/ACCESS-ESM1-5/historical/r1i1p1f1/Amon/tas/gr1.5/v20190922/*.nc\n",
      "GFDL-CM4 /g/data/lp01/CMIP6/CMIP/NOAA-GFDL/GFDL-CM4/historical/r1i1p1f1/Amon/tas/gr1.5/v20180701/*.nc\n",
      "GFDL-ESM4 /g/data/lp01/CMIP6/CMIP/NOAA-GFDL/GFDL-ESM4/historical/r1i1p1f1/Amon/tas/gr1.5/v20190726/*.nc\n",
      "Model E3SM-1-0 has different time so is now removed\n",
      "E3SM-1-1 /g/data/lp01/CMIP6/CMIP/E3SM-Project/E3SM-1-1/historical/r1i1p1f1/Amon/tas/gr1.5/v20191211/*.nc\n",
      "E3SM-1-1-ECA /g/data/lp01/CMIP6/CMIP/E3SM-Project/E3SM-1-1-ECA/historical/r1i1p1f1/Amon/tas/gr1.5/v20200623/*.nc\n",
      "INM-CM4-8 /g/data/lp01/CMIP6/CMIP/INM/INM-CM4-8/historical/r1i1p1f1/Amon/tas/gr1.5/v20190530/*.nc\n",
      "INM-CM5-0 /g/data/lp01/CMIP6/CMIP/INM/INM-CM5-0/historical/r1i1p1f1/Amon/tas/gr1.5/v20190610/*.nc\n",
      "EC-Earth3-Veg-LR /g/data/lp01/CMIP6/CMIP/EC-Earth-Consortium/EC-Earth3-Veg-LR/historical/r1i1p1f1/Amon/tas/gr1.5/v20200217/*.nc\n",
      "Model EC-Earth3-Veg has different time so is now removed\n",
      "EC-Earth3 /g/data/lp01/CMIP6/CMIP/EC-Earth-Consortium/EC-Earth3/historical/r1i1p1f1/Amon/tas/gr1.5/v20200310/*.nc\n",
      "NorCPM1 /g/data/lp01/CMIP6/CMIP/NCC/NorCPM1/historical/r1i1p1f1/Amon/tas/gr1.5/v20190914/*.nc\n",
      "NorESM2-LM /g/data/lp01/CMIP6/CMIP/NCC/NorESM2-LM/historical/r1i1p1f1/Amon/tas/gr1.5/v20190815/*.nc\n",
      "NorESM2-MM /g/data/lp01/CMIP6/CMIP/NCC/NorESM2-MM/historical/r1i1p1f1/Amon/tas/gr1.5/v20191108/*.nc\n",
      "CAMS-CSM1-0 /g/data/lp01/CMIP6/CMIP/CAMS/CAMS-CSM1-0/historical/r1i1p1f1/Amon/tas/gr1.5/v20190708/*.nc\n",
      "CESM2 /g/data/lp01/CMIP6/CMIP/NCAR/CESM2/historical/r1i1p1f1/Amon/tas/gr1.5/v20190308/*.nc\n",
      "CESM2-WACCM /g/data/lp01/CMIP6/CMIP/NCAR/CESM2-WACCM/historical/r1i1p1f1/Amon/tas/gr1.5/v20190227/*.nc\n",
      "CESM2-FV2 /g/data/lp01/CMIP6/CMIP/NCAR/CESM2-FV2/historical/r1i1p1f1/Amon/tas/gr1.5/v20191120/*.nc\n",
      "CESM2-WACCM-FV2 /g/data/lp01/CMIP6/CMIP/NCAR/CESM2-WACCM-FV2/historical/r1i1p1f1/Amon/tas/gr1.5/v20191120/*.nc\n",
      "SAM0-UNICON /g/data/lp01/CMIP6/CMIP/SNU/SAM0-UNICON/historical/r1i1p1f1/Amon/tas/gr1.5/v20190323/*.nc\n",
      "42 models have been successfully loaded into an xarray\n"
     ]
    }
   ],
   "source": [
    "models_tas = func.read_models(institution_dir, tas_dir, '1850-01','2015-01')"
   ]
  },
  {
   "cell_type": "code",
   "execution_count": 7,
   "metadata": {
    "scrolled": true
   },
   "outputs": [
    {
     "name": "stdout",
     "output_type": "stream",
     "text": [
      "45 model paths found and loaded into the dictionary \"models\"\n",
      "MPI-ESM-1-2-HAM /g/data/lp01/CMIP6/CMIP/HAMMOZ-Consortium/MPI-ESM-1-2-HAM/historical/r1i1p1f1/Amon/pr/gr1.5/v20190627/*.nc\n",
      "NESM3 /g/data/lp01/CMIP6/CMIP/NUIST/NESM3/historical/r1i1p1f1/Amon/pr/gr1.5/v20190630/*.nc\n",
      "Path for MCM-UA-1-0 does not exist\n",
      "ACCESS-CM2 /g/data/lp01/CMIP6/CMIP/CSIRO-ARCCSS/ACCESS-CM2/historical/r1i1p1f1/Amon/pr/gr1.5/v20190919/*.nc\n",
      "MPI-ESM1-2-HR /g/data/lp01/CMIP6/CMIP/MPI-M/MPI-ESM1-2-HR/historical/r1i1p1f1/Amon/pr/gr1.5/v20190710/*.nc\n",
      "MPI-ESM1-2-LR /g/data/lp01/CMIP6/CMIP/MPI-M/MPI-ESM1-2-LR/historical/r1i1p1f1/Amon/pr/gr1.5/v20190710/*.nc\n",
      "IPSL-CM6A-LR /g/data/lp01/CMIP6/CMIP/IPSL/IPSL-CM6A-LR/historical/r1i1p1f1/Amon/pr/gr1.5/v20180803/*.nc\n",
      "CAS-ESM2-0 /g/data/lp01/CMIP6/CMIP/CAS/CAS-ESM2-0/historical/r1i1p1f1/Amon/pr/gr1.5/v20200302/*.nc\n",
      "FGOALS-f3-L /g/data/lp01/CMIP6/CMIP/CAS/FGOALS-f3-L/historical/r1i1p1f1/Amon/pr/gr1.5/v20190927/*.nc\n",
      "FGOALS-g3 /g/data/lp01/CMIP6/CMIP/CAS/FGOALS-g3/historical/r1i1p1f1/Amon/pr/gr1.5/v20190818/*.nc\n",
      "BCC-ESM1 /g/data/lp01/CMIP6/CMIP/BCC/BCC-ESM1/historical/r1i1p1f1/Amon/pr/gr1.5/v20181214/*.nc\n",
      "BCC-CSM2-MR /g/data/lp01/CMIP6/CMIP/BCC/BCC-CSM2-MR/historical/r1i1p1f1/Amon/pr/gr1.5/v20181126/*.nc\n",
      "CIESM /g/data/lp01/CMIP6/CMIP/THU/CIESM/historical/r1i1p1f1/Amon/pr/gr1.5/v20191228/*.nc\n",
      "TaiESM1 /g/data/lp01/CMIP6/CMIP/AS-RCEC/TaiESM1/historical/r1i1p1f1/Amon/pr/gr1.5/v20200218/*.nc\n",
      "KACE-1-0-G /g/data/lp01/CMIP6/CMIP/NIMS-KMA/KACE-1-0-G/historical/r1i1p1f1/Amon/pr/gr1.5/v20190910/*.nc\n",
      "CMCC-CM2-SR5 /g/data/lp01/CMIP6/CMIP/CMCC/CMCC-CM2-SR5/historical/r1i1p1f1/Amon/pr/gr1.5/v20200616/*.nc\n",
      "GISS-E2-1-G-CC /g/data/lp01/CMIP6/CMIP/NASA-GISS/GISS-E2-1-G-CC/historical/r1i1p1f1/Amon/pr/gr1.5/v20190815/*.nc\n",
      "GISS-E2-1-H /g/data/lp01/CMIP6/CMIP/NASA-GISS/GISS-E2-1-H/historical/r1i1p1f1/Amon/pr/gr1.5/v20190403/*.nc\n",
      "GISS-E2-1-G /g/data/lp01/CMIP6/CMIP/NASA-GISS/GISS-E2-1-G/historical/r1i1p1f1/Amon/pr/gr1.5/v20180827/*.nc\n",
      "AWI-CM-1-1-MR /g/data/lp01/CMIP6/CMIP/AWI/AWI-CM-1-1-MR/historical/r1i1p1f1/Amon/pr/gr1.5/v20200511/*.nc\n",
      "AWI-ESM-1-1-LR /g/data/lp01/CMIP6/CMIP/AWI/AWI-ESM-1-1-LR/historical/r1i1p1f1/Amon/pr/gr1.5/v20200212/*.nc\n",
      "MIROC6 /g/data/lp01/CMIP6/CMIP/MIROC/MIROC6/historical/r1i1p1f1/Amon/pr/gr1.5/v20181212/*.nc\n",
      "MRI-ESM2-0 /g/data/lp01/CMIP6/CMIP/MRI/MRI-ESM2-0/historical/r1i1p1f1/Amon/pr/gr1.5/v20190222/*.nc\n",
      "FIO-ESM-2-0 /g/data/lp01/CMIP6/CMIP/FIO-QLNM/FIO-ESM-2-0/historical/r1i1p1f1/Amon/pr/gr1.5/v20191209/*.nc\n",
      "CanESM5 /g/data/lp01/CMIP6/CMIP/CCCma/CanESM5/historical/r1i1p1f1/Amon/pr/gr1.5/v20190429/*.nc\n",
      "ACCESS-ESM1-5 /g/data/lp01/CMIP6/CMIP/CSIRO/ACCESS-ESM1-5/historical/r1i1p1f1/Amon/pr/gr1.5/v20190922/*.nc\n",
      "GFDL-CM4 /g/data/lp01/CMIP6/CMIP/NOAA-GFDL/GFDL-CM4/historical/r1i1p1f1/Amon/pr/gr1.5/v20180701/*.nc\n",
      "GFDL-ESM4 /g/data/lp01/CMIP6/CMIP/NOAA-GFDL/GFDL-ESM4/historical/r1i1p1f1/Amon/pr/gr1.5/v20190726/*.nc\n",
      "E3SM-1-0 /g/data/lp01/CMIP6/CMIP/E3SM-Project/E3SM-1-0/historical/r1i1p1f1/Amon/pr/gr1.5/v20190913/*.nc\n",
      "E3SM-1-1 /g/data/lp01/CMIP6/CMIP/E3SM-Project/E3SM-1-1/historical/r1i1p1f1/Amon/pr/gr1.5/v20191211/*.nc\n",
      "E3SM-1-1-ECA /g/data/lp01/CMIP6/CMIP/E3SM-Project/E3SM-1-1-ECA/historical/r1i1p1f1/Amon/pr/gr1.5/v20200623/*.nc\n",
      "INM-CM4-8 /g/data/lp01/CMIP6/CMIP/INM/INM-CM4-8/historical/r1i1p1f1/Amon/pr/gr1.5/v20190530/*.nc\n",
      "INM-CM5-0 /g/data/lp01/CMIP6/CMIP/INM/INM-CM5-0/historical/r1i1p1f1/Amon/pr/gr1.5/v20190610/*.nc\n",
      "EC-Earth3-Veg-LR /g/data/lp01/CMIP6/CMIP/EC-Earth-Consortium/EC-Earth3-Veg-LR/historical/r1i1p1f1/Amon/pr/gr1.5/v20200217/*.nc\n",
      "EC-Earth3-Veg /g/data/lp01/CMIP6/CMIP/EC-Earth-Consortium/EC-Earth3-Veg/historical/r1i1p1f1/Amon/pr/gr1.5/v20200225/*.nc\n",
      "EC-Earth3 /g/data/lp01/CMIP6/CMIP/EC-Earth-Consortium/EC-Earth3/historical/r1i1p1f1/Amon/pr/gr1.5/v20200310/*.nc\n",
      "NorCPM1 /g/data/lp01/CMIP6/CMIP/NCC/NorCPM1/historical/r1i1p1f1/Amon/pr/gr1.5/v20190914/*.nc\n",
      "NorESM2-LM /g/data/lp01/CMIP6/CMIP/NCC/NorESM2-LM/historical/r1i1p1f1/Amon/pr/gr1.5/v20190815/*.nc\n",
      "NorESM2-MM /g/data/lp01/CMIP6/CMIP/NCC/NorESM2-MM/historical/r1i1p1f1/Amon/pr/gr1.5/v20191108/*.nc\n",
      "CAMS-CSM1-0 /g/data/lp01/CMIP6/CMIP/CAMS/CAMS-CSM1-0/historical/r1i1p1f1/Amon/pr/gr1.5/v20190708/*.nc\n",
      "CESM2 /g/data/lp01/CMIP6/CMIP/NCAR/CESM2/historical/r1i1p1f1/Amon/pr/gr1.5/v20190401/*.nc\n",
      "CESM2-WACCM /g/data/lp01/CMIP6/CMIP/NCAR/CESM2-WACCM/historical/r1i1p1f1/Amon/pr/gr1.5/v20190415/*.nc\n",
      "CESM2-FV2 /g/data/lp01/CMIP6/CMIP/NCAR/CESM2-FV2/historical/r1i1p1f1/Amon/pr/gr1.5/v20191120/*.nc\n",
      "CESM2-WACCM-FV2 /g/data/lp01/CMIP6/CMIP/NCAR/CESM2-WACCM-FV2/historical/r1i1p1f1/Amon/pr/gr1.5/v20191120/*.nc\n",
      "SAM0-UNICON /g/data/lp01/CMIP6/CMIP/SNU/SAM0-UNICON/historical/r1i1p1f1/Amon/pr/gr1.5/v20190323/*.nc\n",
      "44 models have been successfully loaded into an xarray\n"
     ]
    }
   ],
   "source": [
    "models_pr = func.read_models(institution_dir, pr_dir, '1850-01','2015-01')"
   ]
  },
  {
   "cell_type": "code",
   "execution_count": 8,
   "metadata": {
    "scrolled": false
   },
   "outputs": [
    {
     "data": {
      "text/plain": [
       "True"
      ]
     },
     "execution_count": 8,
     "metadata": {},
     "output_type": "execute_result"
    }
   ],
   "source": [
    "# make sure the models are the same for both vairables\n",
    "# delete the height from the models_tas array (if it hasn't been deleted already)\n",
    "if 'height' in models_tas:\n",
    "    del models_tas['height']\n",
    "# delete models that aren't common between variables\n",
    "models_tas = models_tas.where(models_tas.model.isin(models_pr.model), drop = True)\n",
    "models_pr = models_pr.where(models_pr.model.isin(models_tas.model), drop = True)\n",
    "#chekc that the models are the same for both variables and if so print True\n",
    "models_tas.model.equals(models_pr.model)"
   ]
  },
  {
   "cell_type": "code",
   "execution_count": 9,
   "metadata": {
    "scrolled": true
   },
   "outputs": [
    {
     "data": {
      "text/html": [
       "<div><svg style=\"position: absolute; width: 0; height: 0; overflow: hidden\">\n",
       "<defs>\n",
       "<symbol id=\"icon-database\" viewBox=\"0 0 32 32\">\n",
       "<path d=\"M16 0c-8.837 0-16 2.239-16 5v4c0 2.761 7.163 5 16 5s16-2.239 16-5v-4c0-2.761-7.163-5-16-5z\"></path>\n",
       "<path d=\"M16 17c-8.837 0-16-2.239-16-5v6c0 2.761 7.163 5 16 5s16-2.239 16-5v-6c0 2.761-7.163 5-16 5z\"></path>\n",
       "<path d=\"M16 26c-8.837 0-16-2.239-16-5v6c0 2.761 7.163 5 16 5s16-2.239 16-5v-6c0 2.761-7.163 5-16 5z\"></path>\n",
       "</symbol>\n",
       "<symbol id=\"icon-file-text2\" viewBox=\"0 0 32 32\">\n",
       "<path d=\"M28.681 7.159c-0.694-0.947-1.662-2.053-2.724-3.116s-2.169-2.030-3.116-2.724c-1.612-1.182-2.393-1.319-2.841-1.319h-15.5c-1.378 0-2.5 1.121-2.5 2.5v27c0 1.378 1.122 2.5 2.5 2.5h23c1.378 0 2.5-1.122 2.5-2.5v-19.5c0-0.448-0.137-1.23-1.319-2.841zM24.543 5.457c0.959 0.959 1.712 1.825 2.268 2.543h-4.811v-4.811c0.718 0.556 1.584 1.309 2.543 2.268zM28 29.5c0 0.271-0.229 0.5-0.5 0.5h-23c-0.271 0-0.5-0.229-0.5-0.5v-27c0-0.271 0.229-0.5 0.5-0.5 0 0 15.499-0 15.5 0v7c0 0.552 0.448 1 1 1h7v19.5z\"></path>\n",
       "<path d=\"M23 26h-14c-0.552 0-1-0.448-1-1s0.448-1 1-1h14c0.552 0 1 0.448 1 1s-0.448 1-1 1z\"></path>\n",
       "<path d=\"M23 22h-14c-0.552 0-1-0.448-1-1s0.448-1 1-1h14c0.552 0 1 0.448 1 1s-0.448 1-1 1z\"></path>\n",
       "<path d=\"M23 18h-14c-0.552 0-1-0.448-1-1s0.448-1 1-1h14c0.552 0 1 0.448 1 1s-0.448 1-1 1z\"></path>\n",
       "</symbol>\n",
       "</defs>\n",
       "</svg>\n",
       "<style>/* CSS stylesheet for displaying xarray objects in jupyterlab.\n",
       " *\n",
       " */\n",
       "\n",
       ":root {\n",
       "  --xr-font-color0: var(--jp-content-font-color0, rgba(0, 0, 0, 1));\n",
       "  --xr-font-color2: var(--jp-content-font-color2, rgba(0, 0, 0, 0.54));\n",
       "  --xr-font-color3: var(--jp-content-font-color3, rgba(0, 0, 0, 0.38));\n",
       "  --xr-border-color: var(--jp-border-color2, #e0e0e0);\n",
       "  --xr-disabled-color: var(--jp-layout-color3, #bdbdbd);\n",
       "  --xr-background-color: var(--jp-layout-color0, white);\n",
       "  --xr-background-color-row-even: var(--jp-layout-color1, white);\n",
       "  --xr-background-color-row-odd: var(--jp-layout-color2, #eeeeee);\n",
       "}\n",
       "\n",
       "html[theme=dark],\n",
       "body.vscode-dark {\n",
       "  --xr-font-color0: rgba(255, 255, 255, 1);\n",
       "  --xr-font-color2: rgba(255, 255, 255, 0.54);\n",
       "  --xr-font-color3: rgba(255, 255, 255, 0.38);\n",
       "  --xr-border-color: #1F1F1F;\n",
       "  --xr-disabled-color: #515151;\n",
       "  --xr-background-color: #111111;\n",
       "  --xr-background-color-row-even: #111111;\n",
       "  --xr-background-color-row-odd: #313131;\n",
       "}\n",
       "\n",
       ".xr-wrap {\n",
       "  display: block;\n",
       "  min-width: 300px;\n",
       "  max-width: 700px;\n",
       "}\n",
       "\n",
       ".xr-text-repr-fallback {\n",
       "  /* fallback to plain text repr when CSS is not injected (untrusted notebook) */\n",
       "  display: none;\n",
       "}\n",
       "\n",
       ".xr-header {\n",
       "  padding-top: 6px;\n",
       "  padding-bottom: 6px;\n",
       "  margin-bottom: 4px;\n",
       "  border-bottom: solid 1px var(--xr-border-color);\n",
       "}\n",
       "\n",
       ".xr-header > div,\n",
       ".xr-header > ul {\n",
       "  display: inline;\n",
       "  margin-top: 0;\n",
       "  margin-bottom: 0;\n",
       "}\n",
       "\n",
       ".xr-obj-type,\n",
       ".xr-array-name {\n",
       "  margin-left: 2px;\n",
       "  margin-right: 10px;\n",
       "}\n",
       "\n",
       ".xr-obj-type {\n",
       "  color: var(--xr-font-color2);\n",
       "}\n",
       "\n",
       ".xr-sections {\n",
       "  padding-left: 0 !important;\n",
       "  display: grid;\n",
       "  grid-template-columns: 150px auto auto 1fr 20px 20px;\n",
       "}\n",
       "\n",
       ".xr-section-item {\n",
       "  display: contents;\n",
       "}\n",
       "\n",
       ".xr-section-item input {\n",
       "  display: none;\n",
       "}\n",
       "\n",
       ".xr-section-item input + label {\n",
       "  color: var(--xr-disabled-color);\n",
       "}\n",
       "\n",
       ".xr-section-item input:enabled + label {\n",
       "  cursor: pointer;\n",
       "  color: var(--xr-font-color2);\n",
       "}\n",
       "\n",
       ".xr-section-item input:enabled + label:hover {\n",
       "  color: var(--xr-font-color0);\n",
       "}\n",
       "\n",
       ".xr-section-summary {\n",
       "  grid-column: 1;\n",
       "  color: var(--xr-font-color2);\n",
       "  font-weight: 500;\n",
       "}\n",
       "\n",
       ".xr-section-summary > span {\n",
       "  display: inline-block;\n",
       "  padding-left: 0.5em;\n",
       "}\n",
       "\n",
       ".xr-section-summary-in:disabled + label {\n",
       "  color: var(--xr-font-color2);\n",
       "}\n",
       "\n",
       ".xr-section-summary-in + label:before {\n",
       "  display: inline-block;\n",
       "  content: '►';\n",
       "  font-size: 11px;\n",
       "  width: 15px;\n",
       "  text-align: center;\n",
       "}\n",
       "\n",
       ".xr-section-summary-in:disabled + label:before {\n",
       "  color: var(--xr-disabled-color);\n",
       "}\n",
       "\n",
       ".xr-section-summary-in:checked + label:before {\n",
       "  content: '▼';\n",
       "}\n",
       "\n",
       ".xr-section-summary-in:checked + label > span {\n",
       "  display: none;\n",
       "}\n",
       "\n",
       ".xr-section-summary,\n",
       ".xr-section-inline-details {\n",
       "  padding-top: 4px;\n",
       "  padding-bottom: 4px;\n",
       "}\n",
       "\n",
       ".xr-section-inline-details {\n",
       "  grid-column: 2 / -1;\n",
       "}\n",
       "\n",
       ".xr-section-details {\n",
       "  display: none;\n",
       "  grid-column: 1 / -1;\n",
       "  margin-bottom: 5px;\n",
       "}\n",
       "\n",
       ".xr-section-summary-in:checked ~ .xr-section-details {\n",
       "  display: contents;\n",
       "}\n",
       "\n",
       ".xr-array-wrap {\n",
       "  grid-column: 1 / -1;\n",
       "  display: grid;\n",
       "  grid-template-columns: 20px auto;\n",
       "}\n",
       "\n",
       ".xr-array-wrap > label {\n",
       "  grid-column: 1;\n",
       "  vertical-align: top;\n",
       "}\n",
       "\n",
       ".xr-preview {\n",
       "  color: var(--xr-font-color3);\n",
       "}\n",
       "\n",
       ".xr-array-preview,\n",
       ".xr-array-data {\n",
       "  padding: 0 5px !important;\n",
       "  grid-column: 2;\n",
       "}\n",
       "\n",
       ".xr-array-data,\n",
       ".xr-array-in:checked ~ .xr-array-preview {\n",
       "  display: none;\n",
       "}\n",
       "\n",
       ".xr-array-in:checked ~ .xr-array-data,\n",
       ".xr-array-preview {\n",
       "  display: inline-block;\n",
       "}\n",
       "\n",
       ".xr-dim-list {\n",
       "  display: inline-block !important;\n",
       "  list-style: none;\n",
       "  padding: 0 !important;\n",
       "  margin: 0;\n",
       "}\n",
       "\n",
       ".xr-dim-list li {\n",
       "  display: inline-block;\n",
       "  padding: 0;\n",
       "  margin: 0;\n",
       "}\n",
       "\n",
       ".xr-dim-list:before {\n",
       "  content: '(';\n",
       "}\n",
       "\n",
       ".xr-dim-list:after {\n",
       "  content: ')';\n",
       "}\n",
       "\n",
       ".xr-dim-list li:not(:last-child):after {\n",
       "  content: ',';\n",
       "  padding-right: 5px;\n",
       "}\n",
       "\n",
       ".xr-has-index {\n",
       "  font-weight: bold;\n",
       "}\n",
       "\n",
       ".xr-var-list,\n",
       ".xr-var-item {\n",
       "  display: contents;\n",
       "}\n",
       "\n",
       ".xr-var-item > div,\n",
       ".xr-var-item label,\n",
       ".xr-var-item > .xr-var-name span {\n",
       "  background-color: var(--xr-background-color-row-even);\n",
       "  margin-bottom: 0;\n",
       "}\n",
       "\n",
       ".xr-var-item > .xr-var-name:hover span {\n",
       "  padding-right: 5px;\n",
       "}\n",
       "\n",
       ".xr-var-list > li:nth-child(odd) > div,\n",
       ".xr-var-list > li:nth-child(odd) > label,\n",
       ".xr-var-list > li:nth-child(odd) > .xr-var-name span {\n",
       "  background-color: var(--xr-background-color-row-odd);\n",
       "}\n",
       "\n",
       ".xr-var-name {\n",
       "  grid-column: 1;\n",
       "}\n",
       "\n",
       ".xr-var-dims {\n",
       "  grid-column: 2;\n",
       "}\n",
       "\n",
       ".xr-var-dtype {\n",
       "  grid-column: 3;\n",
       "  text-align: right;\n",
       "  color: var(--xr-font-color2);\n",
       "}\n",
       "\n",
       ".xr-var-preview {\n",
       "  grid-column: 4;\n",
       "}\n",
       "\n",
       ".xr-var-name,\n",
       ".xr-var-dims,\n",
       ".xr-var-dtype,\n",
       ".xr-preview,\n",
       ".xr-attrs dt {\n",
       "  white-space: nowrap;\n",
       "  overflow: hidden;\n",
       "  text-overflow: ellipsis;\n",
       "  padding-right: 10px;\n",
       "}\n",
       "\n",
       ".xr-var-name:hover,\n",
       ".xr-var-dims:hover,\n",
       ".xr-var-dtype:hover,\n",
       ".xr-attrs dt:hover {\n",
       "  overflow: visible;\n",
       "  width: auto;\n",
       "  z-index: 1;\n",
       "}\n",
       "\n",
       ".xr-var-attrs,\n",
       ".xr-var-data {\n",
       "  display: none;\n",
       "  background-color: var(--xr-background-color) !important;\n",
       "  padding-bottom: 5px !important;\n",
       "}\n",
       "\n",
       ".xr-var-attrs-in:checked ~ .xr-var-attrs,\n",
       ".xr-var-data-in:checked ~ .xr-var-data {\n",
       "  display: block;\n",
       "}\n",
       "\n",
       ".xr-var-data > table {\n",
       "  float: right;\n",
       "}\n",
       "\n",
       ".xr-var-name span,\n",
       ".xr-var-data,\n",
       ".xr-attrs {\n",
       "  padding-left: 25px !important;\n",
       "}\n",
       "\n",
       ".xr-attrs,\n",
       ".xr-var-attrs,\n",
       ".xr-var-data {\n",
       "  grid-column: 1 / -1;\n",
       "}\n",
       "\n",
       "dl.xr-attrs {\n",
       "  padding: 0;\n",
       "  margin: 0;\n",
       "  display: grid;\n",
       "  grid-template-columns: 125px auto;\n",
       "}\n",
       "\n",
       ".xr-attrs dt, dd {\n",
       "  padding: 0;\n",
       "  margin: 0;\n",
       "  float: left;\n",
       "  padding-right: 10px;\n",
       "  width: auto;\n",
       "}\n",
       "\n",
       ".xr-attrs dt {\n",
       "  font-weight: normal;\n",
       "  grid-column: 1;\n",
       "}\n",
       "\n",
       ".xr-attrs dt:hover span {\n",
       "  display: inline-block;\n",
       "  background: var(--xr-background-color);\n",
       "  padding-right: 10px;\n",
       "}\n",
       "\n",
       ".xr-attrs dd {\n",
       "  grid-column: 2;\n",
       "  white-space: pre-wrap;\n",
       "  word-break: break-all;\n",
       "}\n",
       "\n",
       ".xr-icon-database,\n",
       ".xr-icon-file-text2 {\n",
       "  display: inline-block;\n",
       "  vertical-align: middle;\n",
       "  width: 1em;\n",
       "  height: 1.5em !important;\n",
       "  stroke-width: 0;\n",
       "  stroke: currentColor;\n",
       "  fill: currentColor;\n",
       "}\n",
       "</style><pre class='xr-text-repr-fallback'>&lt;xarray.Dataset&gt;\n",
       "Dimensions:  (lat: 120, lon: 240, model: 41, time: 1980)\n",
       "Coordinates:\n",
       "  * time     (time) datetime64[ns] 1850-01-31 1850-02-28 ... 2014-12-31\n",
       "  * lat      (lat) float64 -89.25 -87.75 -86.25 -84.75 ... 86.25 87.75 89.25\n",
       "  * lon      (lon) float64 0.0 1.5 3.0 4.5 6.0 ... 352.5 354.0 355.5 357.0 358.5\n",
       "  * model    (model) &lt;U16 &#x27;MPI-ESM-1-2-HAM&#x27; &#x27;NESM3&#x27; ... &#x27;SAM0-UNICON&#x27;\n",
       "Data variables:\n",
       "    tas      (model, time, lat, lon) float32 dask.array&lt;chunksize=(1, 1980, 120, 240), meta=np.ndarray&gt;\n",
       "    pr       (model, time, lat, lon) float64 dask.array&lt;chunksize=(1, 1980, 120, 240), meta=np.ndarray&gt;</pre><div class='xr-wrap' hidden><div class='xr-header'><div class='xr-obj-type'>xarray.Dataset</div></div><ul class='xr-sections'><li class='xr-section-item'><input id='section-f0362631-78d1-463d-abbf-cf230078fecd' class='xr-section-summary-in' type='checkbox' disabled ><label for='section-f0362631-78d1-463d-abbf-cf230078fecd' class='xr-section-summary'  title='Expand/collapse section'>Dimensions:</label><div class='xr-section-inline-details'><ul class='xr-dim-list'><li><span class='xr-has-index'>lat</span>: 120</li><li><span class='xr-has-index'>lon</span>: 240</li><li><span class='xr-has-index'>model</span>: 41</li><li><span class='xr-has-index'>time</span>: 1980</li></ul></div><div class='xr-section-details'></div></li><li class='xr-section-item'><input id='section-0a65a7b8-4fc6-44a1-ac98-b85c50a42bb6' class='xr-section-summary-in' type='checkbox'  checked><label for='section-0a65a7b8-4fc6-44a1-ac98-b85c50a42bb6' class='xr-section-summary' >Coordinates: <span>(4)</span></label><div class='xr-section-inline-details'></div><div class='xr-section-details'><ul class='xr-var-list'><li class='xr-var-item'><div class='xr-var-name'><span class='xr-has-index'>time</span></div><div class='xr-var-dims'>(time)</div><div class='xr-var-dtype'>datetime64[ns]</div><div class='xr-var-preview xr-preview'>1850-01-31 ... 2014-12-31</div><input id='attrs-3dca0578-00ad-4cf5-9417-dc8cb9446246' class='xr-var-attrs-in' type='checkbox' disabled><label for='attrs-3dca0578-00ad-4cf5-9417-dc8cb9446246' title='Show/Hide attributes'><svg class='icon xr-icon-file-text2'><use xlink:href='#icon-file-text2'></use></svg></label><input id='data-16e9b85b-58a2-4f9e-b59d-c0861beec76f' class='xr-var-data-in' type='checkbox'><label for='data-16e9b85b-58a2-4f9e-b59d-c0861beec76f' title='Show/Hide data repr'><svg class='icon xr-icon-database'><use xlink:href='#icon-database'></use></svg></label><div class='xr-var-attrs'><dl class='xr-attrs'></dl></div><div class='xr-var-data'><pre>array([&#x27;1850-01-31T00:00:00.000000000&#x27;, &#x27;1850-02-28T00:00:00.000000000&#x27;,\n",
       "       &#x27;1850-03-31T00:00:00.000000000&#x27;, ..., &#x27;2014-10-31T00:00:00.000000000&#x27;,\n",
       "       &#x27;2014-11-30T00:00:00.000000000&#x27;, &#x27;2014-12-31T00:00:00.000000000&#x27;],\n",
       "      dtype=&#x27;datetime64[ns]&#x27;)</pre></div></li><li class='xr-var-item'><div class='xr-var-name'><span class='xr-has-index'>lat</span></div><div class='xr-var-dims'>(lat)</div><div class='xr-var-dtype'>float64</div><div class='xr-var-preview xr-preview'>-89.25 -87.75 ... 87.75 89.25</div><input id='attrs-9b9d6c25-574a-43c6-ac00-682127441e1f' class='xr-var-attrs-in' type='checkbox' ><label for='attrs-9b9d6c25-574a-43c6-ac00-682127441e1f' title='Show/Hide attributes'><svg class='icon xr-icon-file-text2'><use xlink:href='#icon-file-text2'></use></svg></label><input id='data-c6d97c2a-6976-4b82-90cf-6827b7c7f7b7' class='xr-var-data-in' type='checkbox'><label for='data-c6d97c2a-6976-4b82-90cf-6827b7c7f7b7' title='Show/Hide data repr'><svg class='icon xr-icon-database'><use xlink:href='#icon-database'></use></svg></label><div class='xr-var-attrs'><dl class='xr-attrs'><dt><span>standard_name :</span></dt><dd>latitude</dd><dt><span>long_name :</span></dt><dd>latitude</dd><dt><span>units :</span></dt><dd>degrees_north</dd><dt><span>axis :</span></dt><dd>Y</dd></dl></div><div class='xr-var-data'><pre>array([-89.25, -87.75, -86.25, -84.75, -83.25, -81.75, -80.25, -78.75, -77.25,\n",
       "       -75.75, -74.25, -72.75, -71.25, -69.75, -68.25, -66.75, -65.25, -63.75,\n",
       "       -62.25, -60.75, -59.25, -57.75, -56.25, -54.75, -53.25, -51.75, -50.25,\n",
       "       -48.75, -47.25, -45.75, -44.25, -42.75, -41.25, -39.75, -38.25, -36.75,\n",
       "       -35.25, -33.75, -32.25, -30.75, -29.25, -27.75, -26.25, -24.75, -23.25,\n",
       "       -21.75, -20.25, -18.75, -17.25, -15.75, -14.25, -12.75, -11.25,  -9.75,\n",
       "        -8.25,  -6.75,  -5.25,  -3.75,  -2.25,  -0.75,   0.75,   2.25,   3.75,\n",
       "         5.25,   6.75,   8.25,   9.75,  11.25,  12.75,  14.25,  15.75,  17.25,\n",
       "        18.75,  20.25,  21.75,  23.25,  24.75,  26.25,  27.75,  29.25,  30.75,\n",
       "        32.25,  33.75,  35.25,  36.75,  38.25,  39.75,  41.25,  42.75,  44.25,\n",
       "        45.75,  47.25,  48.75,  50.25,  51.75,  53.25,  54.75,  56.25,  57.75,\n",
       "        59.25,  60.75,  62.25,  63.75,  65.25,  66.75,  68.25,  69.75,  71.25,\n",
       "        72.75,  74.25,  75.75,  77.25,  78.75,  80.25,  81.75,  83.25,  84.75,\n",
       "        86.25,  87.75,  89.25])</pre></div></li><li class='xr-var-item'><div class='xr-var-name'><span class='xr-has-index'>lon</span></div><div class='xr-var-dims'>(lon)</div><div class='xr-var-dtype'>float64</div><div class='xr-var-preview xr-preview'>0.0 1.5 3.0 ... 355.5 357.0 358.5</div><input id='attrs-3d75c208-a597-494d-8906-f2ce9ffd4292' class='xr-var-attrs-in' type='checkbox' ><label for='attrs-3d75c208-a597-494d-8906-f2ce9ffd4292' title='Show/Hide attributes'><svg class='icon xr-icon-file-text2'><use xlink:href='#icon-file-text2'></use></svg></label><input id='data-ecf84c8e-2a3f-46f3-9c93-c35072219006' class='xr-var-data-in' type='checkbox'><label for='data-ecf84c8e-2a3f-46f3-9c93-c35072219006' title='Show/Hide data repr'><svg class='icon xr-icon-database'><use xlink:href='#icon-database'></use></svg></label><div class='xr-var-attrs'><dl class='xr-attrs'><dt><span>standard_name :</span></dt><dd>longitude</dd><dt><span>long_name :</span></dt><dd>longitude</dd><dt><span>units :</span></dt><dd>degrees_east</dd><dt><span>axis :</span></dt><dd>X</dd></dl></div><div class='xr-var-data'><pre>array([  0. ,   1.5,   3. , ..., 355.5, 357. , 358.5])</pre></div></li><li class='xr-var-item'><div class='xr-var-name'><span class='xr-has-index'>model</span></div><div class='xr-var-dims'>(model)</div><div class='xr-var-dtype'>&lt;U16</div><div class='xr-var-preview xr-preview'>&#x27;MPI-ESM-1-2-HAM&#x27; ... &#x27;SAM0-UNICON&#x27;</div><input id='attrs-2e327ae5-b95f-4562-af3a-ccd37f61c26f' class='xr-var-attrs-in' type='checkbox' disabled><label for='attrs-2e327ae5-b95f-4562-af3a-ccd37f61c26f' title='Show/Hide attributes'><svg class='icon xr-icon-file-text2'><use xlink:href='#icon-file-text2'></use></svg></label><input id='data-8d0e569c-3f93-43b1-a273-c33566046bc9' class='xr-var-data-in' type='checkbox'><label for='data-8d0e569c-3f93-43b1-a273-c33566046bc9' title='Show/Hide data repr'><svg class='icon xr-icon-database'><use xlink:href='#icon-database'></use></svg></label><div class='xr-var-attrs'><dl class='xr-attrs'></dl></div><div class='xr-var-data'><pre>array([&#x27;MPI-ESM-1-2-HAM&#x27;, &#x27;NESM3&#x27;, &#x27;ACCESS-CM2&#x27;, &#x27;MPI-ESM1-2-LR&#x27;,\n",
       "       &#x27;IPSL-CM6A-LR&#x27;, &#x27;CAS-ESM2-0&#x27;, &#x27;FGOALS-f3-L&#x27;, &#x27;FGOALS-g3&#x27;, &#x27;BCC-ESM1&#x27;,\n",
       "       &#x27;BCC-CSM2-MR&#x27;, &#x27;CIESM&#x27;, &#x27;TaiESM1&#x27;, &#x27;KACE-1-0-G&#x27;, &#x27;CMCC-CM2-SR5&#x27;,\n",
       "       &#x27;GISS-E2-1-G-CC&#x27;, &#x27;GISS-E2-1-H&#x27;, &#x27;GISS-E2-1-G&#x27;, &#x27;AWI-CM-1-1-MR&#x27;,\n",
       "       &#x27;AWI-ESM-1-1-LR&#x27;, &#x27;MIROC6&#x27;, &#x27;MRI-ESM2-0&#x27;, &#x27;FIO-ESM-2-0&#x27;, &#x27;CanESM5&#x27;,\n",
       "       &#x27;ACCESS-ESM1-5&#x27;, &#x27;GFDL-CM4&#x27;, &#x27;GFDL-ESM4&#x27;, &#x27;E3SM-1-1&#x27;, &#x27;E3SM-1-1-ECA&#x27;,\n",
       "       &#x27;INM-CM4-8&#x27;, &#x27;INM-CM5-0&#x27;, &#x27;EC-Earth3-Veg-LR&#x27;, &#x27;EC-Earth3&#x27;, &#x27;NorCPM1&#x27;,\n",
       "       &#x27;NorESM2-LM&#x27;, &#x27;NorESM2-MM&#x27;, &#x27;CAMS-CSM1-0&#x27;, &#x27;CESM2&#x27;, &#x27;CESM2-WACCM&#x27;,\n",
       "       &#x27;CESM2-FV2&#x27;, &#x27;CESM2-WACCM-FV2&#x27;, &#x27;SAM0-UNICON&#x27;], dtype=&#x27;&lt;U16&#x27;)</pre></div></li></ul></div></li><li class='xr-section-item'><input id='section-4e3feefe-6925-4f83-adf1-eef8ea658bd0' class='xr-section-summary-in' type='checkbox'  checked><label for='section-4e3feefe-6925-4f83-adf1-eef8ea658bd0' class='xr-section-summary' >Data variables: <span>(2)</span></label><div class='xr-section-inline-details'></div><div class='xr-section-details'><ul class='xr-var-list'><li class='xr-var-item'><div class='xr-var-name'><span>tas</span></div><div class='xr-var-dims'>(model, time, lat, lon)</div><div class='xr-var-dtype'>float32</div><div class='xr-var-preview xr-preview'>dask.array&lt;chunksize=(1, 1980, 120, 240), meta=np.ndarray&gt;</div><input id='attrs-413c79f6-6831-406c-b03c-e957cc7bc426' class='xr-var-attrs-in' type='checkbox' ><label for='attrs-413c79f6-6831-406c-b03c-e957cc7bc426' title='Show/Hide attributes'><svg class='icon xr-icon-file-text2'><use xlink:href='#icon-file-text2'></use></svg></label><input id='data-8e4c4cd1-f25d-4929-96a3-81eca1d352bb' class='xr-var-data-in' type='checkbox'><label for='data-8e4c4cd1-f25d-4929-96a3-81eca1d352bb' title='Show/Hide data repr'><svg class='icon xr-icon-database'><use xlink:href='#icon-database'></use></svg></label><div class='xr-var-attrs'><dl class='xr-attrs'><dt><span>standard_name :</span></dt><dd>air_temperature</dd><dt><span>long_name :</span></dt><dd>Near-Surface Air Temperature</dd><dt><span>units :</span></dt><dd>K</dd><dt><span>comment :</span></dt><dd>near-surface (usually, 2 meter) air temperature</dd><dt><span>cell_methods :</span></dt><dd>area: time: mean</dd><dt><span>cell_measures :</span></dt><dd>area: areacella</dd><dt><span>history :</span></dt><dd>2019-11-24T15:53:31Z altered by CMOR: Treated scalar dimension: &#x27;height&#x27;. 2019-11-24T15:53:31Z altered by CMOR: replaced missing value flag (-9e+33) and corresponding data with standard missing value (1e+20). 2019-11-24T15:53:32Z altered by CMOR: Inverted axis: lat.</dd></dl></div><div class='xr-var-data'><table>\n",
       "<tr>\n",
       "<td>\n",
       "<table>\n",
       "  <thead>\n",
       "    <tr><td> </td><th> Array </th><th> Chunk </th></tr>\n",
       "  </thead>\n",
       "  <tbody>\n",
       "    <tr><th> Bytes </th><td> 9.35 GB </td> <td> 228.10 MB </td></tr>\n",
       "    <tr><th> Shape </th><td> (41, 1980, 120, 240) </td> <td> (1, 1980, 120, 240) </td></tr>\n",
       "    <tr><th> Count </th><td> 333 Tasks </td><td> 41 Chunks </td></tr>\n",
       "    <tr><th> Type </th><td> float32 </td><td> numpy.ndarray </td></tr>\n",
       "  </tbody>\n",
       "</table>\n",
       "</td>\n",
       "<td>\n",
       "<svg width=\"358\" height=\"156\" style=\"stroke:rgb(0,0,0);stroke-width:1\" >\n",
       "\n",
       "  <!-- Horizontal lines -->\n",
       "  <line x1=\"0\" y1=\"0\" x2=\"29\" y2=\"0\" style=\"stroke-width:2\" />\n",
       "  <line x1=\"0\" y1=\"25\" x2=\"29\" y2=\"25\" style=\"stroke-width:2\" />\n",
       "\n",
       "  <!-- Vertical lines -->\n",
       "  <line x1=\"0\" y1=\"0\" x2=\"0\" y2=\"25\" style=\"stroke-width:2\" />\n",
       "  <line x1=\"0\" y1=\"0\" x2=\"0\" y2=\"25\" />\n",
       "  <line x1=\"1\" y1=\"0\" x2=\"1\" y2=\"25\" />\n",
       "  <line x1=\"2\" y1=\"0\" x2=\"2\" y2=\"25\" />\n",
       "  <line x1=\"2\" y1=\"0\" x2=\"2\" y2=\"25\" />\n",
       "  <line x1=\"3\" y1=\"0\" x2=\"3\" y2=\"25\" />\n",
       "  <line x1=\"4\" y1=\"0\" x2=\"4\" y2=\"25\" />\n",
       "  <line x1=\"4\" y1=\"0\" x2=\"4\" y2=\"25\" />\n",
       "  <line x1=\"5\" y1=\"0\" x2=\"5\" y2=\"25\" />\n",
       "  <line x1=\"6\" y1=\"0\" x2=\"6\" y2=\"25\" />\n",
       "  <line x1=\"7\" y1=\"0\" x2=\"7\" y2=\"25\" />\n",
       "  <line x1=\"7\" y1=\"0\" x2=\"7\" y2=\"25\" />\n",
       "  <line x1=\"8\" y1=\"0\" x2=\"8\" y2=\"25\" />\n",
       "  <line x1=\"9\" y1=\"0\" x2=\"9\" y2=\"25\" />\n",
       "  <line x1=\"9\" y1=\"0\" x2=\"9\" y2=\"25\" />\n",
       "  <line x1=\"10\" y1=\"0\" x2=\"10\" y2=\"25\" />\n",
       "  <line x1=\"11\" y1=\"0\" x2=\"11\" y2=\"25\" />\n",
       "  <line x1=\"12\" y1=\"0\" x2=\"12\" y2=\"25\" />\n",
       "  <line x1=\"12\" y1=\"0\" x2=\"12\" y2=\"25\" />\n",
       "  <line x1=\"13\" y1=\"0\" x2=\"13\" y2=\"25\" />\n",
       "  <line x1=\"14\" y1=\"0\" x2=\"14\" y2=\"25\" />\n",
       "  <line x1=\"14\" y1=\"0\" x2=\"14\" y2=\"25\" />\n",
       "  <line x1=\"15\" y1=\"0\" x2=\"15\" y2=\"25\" />\n",
       "  <line x1=\"16\" y1=\"0\" x2=\"16\" y2=\"25\" />\n",
       "  <line x1=\"17\" y1=\"0\" x2=\"17\" y2=\"25\" />\n",
       "  <line x1=\"17\" y1=\"0\" x2=\"17\" y2=\"25\" />\n",
       "  <line x1=\"18\" y1=\"0\" x2=\"18\" y2=\"25\" />\n",
       "  <line x1=\"19\" y1=\"0\" x2=\"19\" y2=\"25\" />\n",
       "  <line x1=\"19\" y1=\"0\" x2=\"19\" y2=\"25\" />\n",
       "  <line x1=\"20\" y1=\"0\" x2=\"20\" y2=\"25\" />\n",
       "  <line x1=\"21\" y1=\"0\" x2=\"21\" y2=\"25\" />\n",
       "  <line x1=\"22\" y1=\"0\" x2=\"22\" y2=\"25\" />\n",
       "  <line x1=\"22\" y1=\"0\" x2=\"22\" y2=\"25\" />\n",
       "  <line x1=\"23\" y1=\"0\" x2=\"23\" y2=\"25\" />\n",
       "  <line x1=\"24\" y1=\"0\" x2=\"24\" y2=\"25\" />\n",
       "  <line x1=\"24\" y1=\"0\" x2=\"24\" y2=\"25\" />\n",
       "  <line x1=\"25\" y1=\"0\" x2=\"25\" y2=\"25\" />\n",
       "  <line x1=\"26\" y1=\"0\" x2=\"26\" y2=\"25\" />\n",
       "  <line x1=\"27\" y1=\"0\" x2=\"27\" y2=\"25\" />\n",
       "  <line x1=\"27\" y1=\"0\" x2=\"27\" y2=\"25\" />\n",
       "  <line x1=\"28\" y1=\"0\" x2=\"28\" y2=\"25\" />\n",
       "  <line x1=\"29\" y1=\"0\" x2=\"29\" y2=\"25\" style=\"stroke-width:2\" />\n",
       "\n",
       "  <!-- Colored Rectangle -->\n",
       "  <polygon points=\"0.000000,0.000000 29.226782,0.000000 29.226782,25.412617 0.000000,25.412617\" style=\"fill:#ECB172A0;stroke-width:0\"/>\n",
       "\n",
       "  <!-- Text -->\n",
       "  <text x=\"14.613391\" y=\"45.412617\" font-size=\"1.0rem\" font-weight=\"100\" text-anchor=\"middle\" >41</text>\n",
       "  <text x=\"49.226782\" y=\"12.706308\" font-size=\"1.0rem\" font-weight=\"100\" text-anchor=\"middle\" transform=\"rotate(0,49.226782,12.706308)\">1</text>\n",
       "\n",
       "\n",
       "  <!-- Horizontal lines -->\n",
       "  <line x1=\"99\" y1=\"0\" x2=\"169\" y2=\"70\" style=\"stroke-width:2\" />\n",
       "  <line x1=\"99\" y1=\"35\" x2=\"169\" y2=\"106\" style=\"stroke-width:2\" />\n",
       "\n",
       "  <!-- Vertical lines -->\n",
       "  <line x1=\"99\" y1=\"0\" x2=\"99\" y2=\"35\" style=\"stroke-width:2\" />\n",
       "  <line x1=\"169\" y1=\"70\" x2=\"169\" y2=\"106\" style=\"stroke-width:2\" />\n",
       "\n",
       "  <!-- Colored Rectangle -->\n",
       "  <polygon points=\"99.000000,0.000000 169.588235,70.588235 169.588235,106.261734 99.000000,35.673499\" style=\"fill:#ECB172A0;stroke-width:0\"/>\n",
       "\n",
       "  <!-- Horizontal lines -->\n",
       "  <line x1=\"99\" y1=\"0\" x2=\"138\" y2=\"0\" style=\"stroke-width:2\" />\n",
       "  <line x1=\"169\" y1=\"70\" x2=\"209\" y2=\"70\" style=\"stroke-width:2\" />\n",
       "\n",
       "  <!-- Vertical lines -->\n",
       "  <line x1=\"99\" y1=\"0\" x2=\"169\" y2=\"70\" style=\"stroke-width:2\" />\n",
       "  <line x1=\"138\" y1=\"0\" x2=\"209\" y2=\"70\" style=\"stroke-width:2\" />\n",
       "\n",
       "  <!-- Colored Rectangle -->\n",
       "  <polygon points=\"99.000000,0.000000 138.633845,0.000000 209.222080,70.588235 169.588235,70.588235\" style=\"fill:#ECB172A0;stroke-width:0\"/>\n",
       "\n",
       "  <!-- Horizontal lines -->\n",
       "  <line x1=\"169\" y1=\"70\" x2=\"209\" y2=\"70\" style=\"stroke-width:2\" />\n",
       "  <line x1=\"169\" y1=\"106\" x2=\"209\" y2=\"106\" style=\"stroke-width:2\" />\n",
       "\n",
       "  <!-- Vertical lines -->\n",
       "  <line x1=\"169\" y1=\"70\" x2=\"169\" y2=\"106\" style=\"stroke-width:2\" />\n",
       "  <line x1=\"209\" y1=\"70\" x2=\"209\" y2=\"106\" style=\"stroke-width:2\" />\n",
       "\n",
       "  <!-- Colored Rectangle -->\n",
       "  <polygon points=\"169.588235,70.588235 209.222080,70.588235 209.222080,106.261734 169.588235,106.261734\" style=\"fill:#ECB172A0;stroke-width:0\"/>\n",
       "\n",
       "  <!-- Text -->\n",
       "  <text x=\"189.405158\" y=\"126.261734\" font-size=\"1.0rem\" font-weight=\"100\" text-anchor=\"middle\" >240</text>\n",
       "  <text x=\"229.222080\" y=\"88.424985\" font-size=\"1.0rem\" font-weight=\"100\" text-anchor=\"middle\" transform=\"rotate(-90,229.222080,88.424985)\">120</text>\n",
       "  <text x=\"124.294118\" y=\"90.967617\" font-size=\"1.0rem\" font-weight=\"100\" text-anchor=\"middle\" transform=\"rotate(45,124.294118,90.967617)\">1980</text>\n",
       "</svg>\n",
       "</td>\n",
       "</tr>\n",
       "</table></div></li><li class='xr-var-item'><div class='xr-var-name'><span>pr</span></div><div class='xr-var-dims'>(model, time, lat, lon)</div><div class='xr-var-dtype'>float64</div><div class='xr-var-preview xr-preview'>dask.array&lt;chunksize=(1, 1980, 120, 240), meta=np.ndarray&gt;</div><input id='attrs-11e4fa33-8a4a-4da4-b523-5f8e28313d93' class='xr-var-attrs-in' type='checkbox' disabled><label for='attrs-11e4fa33-8a4a-4da4-b523-5f8e28313d93' title='Show/Hide attributes'><svg class='icon xr-icon-file-text2'><use xlink:href='#icon-file-text2'></use></svg></label><input id='data-a66835d1-1233-473a-9f30-65922442a422' class='xr-var-data-in' type='checkbox'><label for='data-a66835d1-1233-473a-9f30-65922442a422' title='Show/Hide data repr'><svg class='icon xr-icon-database'><use xlink:href='#icon-database'></use></svg></label><div class='xr-var-attrs'><dl class='xr-attrs'></dl></div><div class='xr-var-data'><table>\n",
       "<tr>\n",
       "<td>\n",
       "<table>\n",
       "  <thead>\n",
       "    <tr><td> </td><th> Array </th><th> Chunk </th></tr>\n",
       "  </thead>\n",
       "  <tbody>\n",
       "    <tr><th> Bytes </th><td> 18.70 GB </td> <td> 456.19 MB </td></tr>\n",
       "    <tr><th> Shape </th><td> (41, 1980, 120, 240) </td> <td> (1, 1980, 120, 240) </td></tr>\n",
       "    <tr><th> Count </th><td> 382 Tasks </td><td> 41 Chunks </td></tr>\n",
       "    <tr><th> Type </th><td> float64 </td><td> numpy.ndarray </td></tr>\n",
       "  </tbody>\n",
       "</table>\n",
       "</td>\n",
       "<td>\n",
       "<svg width=\"358\" height=\"156\" style=\"stroke:rgb(0,0,0);stroke-width:1\" >\n",
       "\n",
       "  <!-- Horizontal lines -->\n",
       "  <line x1=\"0\" y1=\"0\" x2=\"29\" y2=\"0\" style=\"stroke-width:2\" />\n",
       "  <line x1=\"0\" y1=\"25\" x2=\"29\" y2=\"25\" style=\"stroke-width:2\" />\n",
       "\n",
       "  <!-- Vertical lines -->\n",
       "  <line x1=\"0\" y1=\"0\" x2=\"0\" y2=\"25\" style=\"stroke-width:2\" />\n",
       "  <line x1=\"0\" y1=\"0\" x2=\"0\" y2=\"25\" />\n",
       "  <line x1=\"1\" y1=\"0\" x2=\"1\" y2=\"25\" />\n",
       "  <line x1=\"2\" y1=\"0\" x2=\"2\" y2=\"25\" />\n",
       "  <line x1=\"2\" y1=\"0\" x2=\"2\" y2=\"25\" />\n",
       "  <line x1=\"3\" y1=\"0\" x2=\"3\" y2=\"25\" />\n",
       "  <line x1=\"4\" y1=\"0\" x2=\"4\" y2=\"25\" />\n",
       "  <line x1=\"4\" y1=\"0\" x2=\"4\" y2=\"25\" />\n",
       "  <line x1=\"5\" y1=\"0\" x2=\"5\" y2=\"25\" />\n",
       "  <line x1=\"6\" y1=\"0\" x2=\"6\" y2=\"25\" />\n",
       "  <line x1=\"7\" y1=\"0\" x2=\"7\" y2=\"25\" />\n",
       "  <line x1=\"7\" y1=\"0\" x2=\"7\" y2=\"25\" />\n",
       "  <line x1=\"8\" y1=\"0\" x2=\"8\" y2=\"25\" />\n",
       "  <line x1=\"9\" y1=\"0\" x2=\"9\" y2=\"25\" />\n",
       "  <line x1=\"9\" y1=\"0\" x2=\"9\" y2=\"25\" />\n",
       "  <line x1=\"10\" y1=\"0\" x2=\"10\" y2=\"25\" />\n",
       "  <line x1=\"11\" y1=\"0\" x2=\"11\" y2=\"25\" />\n",
       "  <line x1=\"12\" y1=\"0\" x2=\"12\" y2=\"25\" />\n",
       "  <line x1=\"12\" y1=\"0\" x2=\"12\" y2=\"25\" />\n",
       "  <line x1=\"13\" y1=\"0\" x2=\"13\" y2=\"25\" />\n",
       "  <line x1=\"14\" y1=\"0\" x2=\"14\" y2=\"25\" />\n",
       "  <line x1=\"14\" y1=\"0\" x2=\"14\" y2=\"25\" />\n",
       "  <line x1=\"15\" y1=\"0\" x2=\"15\" y2=\"25\" />\n",
       "  <line x1=\"16\" y1=\"0\" x2=\"16\" y2=\"25\" />\n",
       "  <line x1=\"17\" y1=\"0\" x2=\"17\" y2=\"25\" />\n",
       "  <line x1=\"17\" y1=\"0\" x2=\"17\" y2=\"25\" />\n",
       "  <line x1=\"18\" y1=\"0\" x2=\"18\" y2=\"25\" />\n",
       "  <line x1=\"19\" y1=\"0\" x2=\"19\" y2=\"25\" />\n",
       "  <line x1=\"19\" y1=\"0\" x2=\"19\" y2=\"25\" />\n",
       "  <line x1=\"20\" y1=\"0\" x2=\"20\" y2=\"25\" />\n",
       "  <line x1=\"21\" y1=\"0\" x2=\"21\" y2=\"25\" />\n",
       "  <line x1=\"22\" y1=\"0\" x2=\"22\" y2=\"25\" />\n",
       "  <line x1=\"22\" y1=\"0\" x2=\"22\" y2=\"25\" />\n",
       "  <line x1=\"23\" y1=\"0\" x2=\"23\" y2=\"25\" />\n",
       "  <line x1=\"24\" y1=\"0\" x2=\"24\" y2=\"25\" />\n",
       "  <line x1=\"24\" y1=\"0\" x2=\"24\" y2=\"25\" />\n",
       "  <line x1=\"25\" y1=\"0\" x2=\"25\" y2=\"25\" />\n",
       "  <line x1=\"26\" y1=\"0\" x2=\"26\" y2=\"25\" />\n",
       "  <line x1=\"27\" y1=\"0\" x2=\"27\" y2=\"25\" />\n",
       "  <line x1=\"27\" y1=\"0\" x2=\"27\" y2=\"25\" />\n",
       "  <line x1=\"28\" y1=\"0\" x2=\"28\" y2=\"25\" />\n",
       "  <line x1=\"29\" y1=\"0\" x2=\"29\" y2=\"25\" style=\"stroke-width:2\" />\n",
       "\n",
       "  <!-- Colored Rectangle -->\n",
       "  <polygon points=\"0.000000,0.000000 29.226782,0.000000 29.226782,25.412617 0.000000,25.412617\" style=\"fill:#ECB172A0;stroke-width:0\"/>\n",
       "\n",
       "  <!-- Text -->\n",
       "  <text x=\"14.613391\" y=\"45.412617\" font-size=\"1.0rem\" font-weight=\"100\" text-anchor=\"middle\" >41</text>\n",
       "  <text x=\"49.226782\" y=\"12.706308\" font-size=\"1.0rem\" font-weight=\"100\" text-anchor=\"middle\" transform=\"rotate(0,49.226782,12.706308)\">1</text>\n",
       "\n",
       "\n",
       "  <!-- Horizontal lines -->\n",
       "  <line x1=\"99\" y1=\"0\" x2=\"169\" y2=\"70\" style=\"stroke-width:2\" />\n",
       "  <line x1=\"99\" y1=\"35\" x2=\"169\" y2=\"106\" style=\"stroke-width:2\" />\n",
       "\n",
       "  <!-- Vertical lines -->\n",
       "  <line x1=\"99\" y1=\"0\" x2=\"99\" y2=\"35\" style=\"stroke-width:2\" />\n",
       "  <line x1=\"169\" y1=\"70\" x2=\"169\" y2=\"106\" style=\"stroke-width:2\" />\n",
       "\n",
       "  <!-- Colored Rectangle -->\n",
       "  <polygon points=\"99.000000,0.000000 169.588235,70.588235 169.588235,106.261734 99.000000,35.673499\" style=\"fill:#ECB172A0;stroke-width:0\"/>\n",
       "\n",
       "  <!-- Horizontal lines -->\n",
       "  <line x1=\"99\" y1=\"0\" x2=\"138\" y2=\"0\" style=\"stroke-width:2\" />\n",
       "  <line x1=\"169\" y1=\"70\" x2=\"209\" y2=\"70\" style=\"stroke-width:2\" />\n",
       "\n",
       "  <!-- Vertical lines -->\n",
       "  <line x1=\"99\" y1=\"0\" x2=\"169\" y2=\"70\" style=\"stroke-width:2\" />\n",
       "  <line x1=\"138\" y1=\"0\" x2=\"209\" y2=\"70\" style=\"stroke-width:2\" />\n",
       "\n",
       "  <!-- Colored Rectangle -->\n",
       "  <polygon points=\"99.000000,0.000000 138.633845,0.000000 209.222080,70.588235 169.588235,70.588235\" style=\"fill:#ECB172A0;stroke-width:0\"/>\n",
       "\n",
       "  <!-- Horizontal lines -->\n",
       "  <line x1=\"169\" y1=\"70\" x2=\"209\" y2=\"70\" style=\"stroke-width:2\" />\n",
       "  <line x1=\"169\" y1=\"106\" x2=\"209\" y2=\"106\" style=\"stroke-width:2\" />\n",
       "\n",
       "  <!-- Vertical lines -->\n",
       "  <line x1=\"169\" y1=\"70\" x2=\"169\" y2=\"106\" style=\"stroke-width:2\" />\n",
       "  <line x1=\"209\" y1=\"70\" x2=\"209\" y2=\"106\" style=\"stroke-width:2\" />\n",
       "\n",
       "  <!-- Colored Rectangle -->\n",
       "  <polygon points=\"169.588235,70.588235 209.222080,70.588235 209.222080,106.261734 169.588235,106.261734\" style=\"fill:#ECB172A0;stroke-width:0\"/>\n",
       "\n",
       "  <!-- Text -->\n",
       "  <text x=\"189.405158\" y=\"126.261734\" font-size=\"1.0rem\" font-weight=\"100\" text-anchor=\"middle\" >240</text>\n",
       "  <text x=\"229.222080\" y=\"88.424985\" font-size=\"1.0rem\" font-weight=\"100\" text-anchor=\"middle\" transform=\"rotate(-90,229.222080,88.424985)\">120</text>\n",
       "  <text x=\"124.294118\" y=\"90.967617\" font-size=\"1.0rem\" font-weight=\"100\" text-anchor=\"middle\" transform=\"rotate(45,124.294118,90.967617)\">1980</text>\n",
       "</svg>\n",
       "</td>\n",
       "</tr>\n",
       "</table></div></li></ul></div></li><li class='xr-section-item'><input id='section-e8804763-33e8-4a41-8749-bb633939c06f' class='xr-section-summary-in' type='checkbox' disabled ><label for='section-e8804763-33e8-4a41-8749-bb633939c06f' class='xr-section-summary'  title='Expand/collapse section'>Attributes: <span>(0)</span></label><div class='xr-section-inline-details'></div><div class='xr-section-details'><dl class='xr-attrs'></dl></div></li></ul></div></div>"
      ],
      "text/plain": [
       "<xarray.Dataset>\n",
       "Dimensions:  (lat: 120, lon: 240, model: 41, time: 1980)\n",
       "Coordinates:\n",
       "  * time     (time) datetime64[ns] 1850-01-31 1850-02-28 ... 2014-12-31\n",
       "  * lat      (lat) float64 -89.25 -87.75 -86.25 -84.75 ... 86.25 87.75 89.25\n",
       "  * lon      (lon) float64 0.0 1.5 3.0 4.5 6.0 ... 352.5 354.0 355.5 357.0 358.5\n",
       "  * model    (model) <U16 'MPI-ESM-1-2-HAM' 'NESM3' ... 'SAM0-UNICON'\n",
       "Data variables:\n",
       "    tas      (model, time, lat, lon) float32 dask.array<chunksize=(1, 1980, 120, 240), meta=np.ndarray>\n",
       "    pr       (model, time, lat, lon) float64 dask.array<chunksize=(1, 1980, 120, 240), meta=np.ndarray>"
      ]
     },
     "execution_count": 9,
     "metadata": {},
     "output_type": "execute_result"
    }
   ],
   "source": [
    "# combine precipitation and temperature into one dataset\n",
    "models = xr.Dataset({'tas': models_tas.tas, 'pr': models_pr.pr})\n",
    "# change the pr units\n",
    "models['pr'] = models.pr*86400\n",
    "models"
   ]
  },
  {
   "cell_type": "code",
   "execution_count": 10,
   "metadata": {},
   "outputs": [
    {
     "name": "stdout",
     "output_type": "stream",
     "text": [
      "['ACCESS-CM2' 'ACCESS-ESM1-5' 'AWI-CM-1-1-MR' 'AWI-ESM-1-1-LR'\n",
      " 'BCC-CSM2-MR' 'BCC-ESM1' 'CAMS-CSM1-0' 'CAS-ESM2-0' 'CESM2' 'CESM2-FV2'\n",
      " 'CESM2-WACCM' 'CESM2-WACCM-FV2' 'CIESM' 'CMCC-CM2-SR5' 'CanESM5'\n",
      " 'E3SM-1-1' 'E3SM-1-1-ECA' 'EC-Earth3' 'EC-Earth3-Veg-LR' 'FGOALS-f3-L'\n",
      " 'FGOALS-g3' 'FIO-ESM-2-0' 'GFDL-CM4' 'GFDL-ESM4' 'GISS-E2-1-G'\n",
      " 'GISS-E2-1-G-CC' 'GISS-E2-1-H' 'INM-CM4-8' 'INM-CM5-0' 'IPSL-CM6A-LR'\n",
      " 'KACE-1-0-G' 'MIROC6' 'MPI-ESM-1-2-HAM' 'MPI-ESM1-2-LR' 'MRI-ESM2-0'\n",
      " 'NESM3' 'NorCPM1' 'NorESM2-LM' 'NorESM2-MM' 'SAM0-UNICON' 'TaiESM1']\n"
     ]
    }
   ],
   "source": [
    "# sort models alphabetically and prints final model list\n",
    "models = models.sortby('model')\n",
    "print(models.model.data)"
   ]
  },
  {
   "cell_type": "code",
   "execution_count": 11,
   "metadata": {},
   "outputs": [],
   "source": [
    "# # get rid of new model\n",
    "# models = models.drop_sel(model=['TaiESM1'])"
   ]
  },
  {
   "cell_type": "markdown",
   "metadata": {},
   "source": [
    "## Select out regions\n",
    "Right now I have all the models stored in one array so from hereafter I can calculate anomalies etc.  "
   ]
  },
  {
   "cell_type": "code",
   "execution_count": 12,
   "metadata": {},
   "outputs": [],
   "source": [
    "# area weighting \n",
    "models_w = models*np.cos(models_tas.lat*(np.pi/180))"
   ]
  },
  {
   "cell_type": "code",
   "execution_count": 13,
   "metadata": {},
   "outputs": [],
   "source": [
    "# select out the northern and sourhern hemisphere regions\n",
    "models_SH = models_w.sel(lat=slice(-90,0))\n",
    "models_NH = models_w.sel(lat=slice(0,90))\n"
   ]
  },
  {
   "cell_type": "code",
   "execution_count": 14,
   "metadata": {},
   "outputs": [],
   "source": [
    "# import land fraction data\n",
    "landfrac_ds = xr.open_dataset('/home/563/kb6999/Models/landfraction_file_grid1.5.nc')\n",
    "landmask = landfrac_ds.mean(dim='time')"
   ]
  },
  {
   "cell_type": "code",
   "execution_count": 15,
   "metadata": {},
   "outputs": [],
   "source": [
    "# this is where I use the land mask and select out the continents\n",
    "models_w_land = models_w.where(landmask.data==1, drop=True)"
   ]
  },
  {
   "cell_type": "code",
   "execution_count": 16,
   "metadata": {},
   "outputs": [],
   "source": [
    "# here I select the Australia region with a lon,lat box and the Eastern Australia region\n",
    "models_aus = models_w_land.sel(lat=slice(-50,-10), lon=slice(110,160)) \n",
    "models_EAus = models_w_land.sel(lat=slice(-50,-10), lon=slice(140,155))"
   ]
  },
  {
   "cell_type": "markdown",
   "metadata": {},
   "source": [
    "## Anomalies"
   ]
  },
  {
   "cell_type": "code",
   "execution_count": 17,
   "metadata": {},
   "outputs": [
    {
     "name": "stderr",
     "output_type": "stream",
     "text": [
      "/g/data3/hh5/public/apps/miniconda3/envs/analysis3-20.04/lib/python3.7/site-packages/xarray/core/indexing.py:1343: PerformanceWarning: Slicing with an out-of-order index is generating 165 times more chunks\n",
      "  return self.array[key]\n",
      "/g/data3/hh5/public/apps/miniconda3/envs/analysis3-20.04/lib/python3.7/site-packages/xarray/core/indexing.py:1343: PerformanceWarning: Slicing with an out-of-order index is generating 165 times more chunks\n",
      "  return self.array[key]\n"
     ]
    }
   ],
   "source": [
    "# use functions to calculate the monthly and seasonal anomalies for the globe\n",
    "# global\n",
    "# monthly\n",
    "monthly_anom_glob = func.monthly_anomaly(models_w, '1850-01', '1881-01')\n",
    "# seasonal\n",
    "seasonal_anom_glob = func.seasonal_anomaly(models_w, '1850-01', '1881-01')"
   ]
  },
  {
   "cell_type": "code",
   "execution_count": 18,
   "metadata": {},
   "outputs": [
    {
     "name": "stderr",
     "output_type": "stream",
     "text": [
      "/g/data3/hh5/public/apps/miniconda3/envs/analysis3-20.04/lib/python3.7/site-packages/xarray/core/indexing.py:1343: PerformanceWarning: Slicing with an out-of-order index is generating 165 times more chunks\n",
      "  return self.array[key]\n",
      "/g/data3/hh5/public/apps/miniconda3/envs/analysis3-20.04/lib/python3.7/site-packages/xarray/core/indexing.py:1343: PerformanceWarning: Slicing with an out-of-order index is generating 165 times more chunks\n",
      "  return self.array[key]\n",
      "/g/data3/hh5/public/apps/miniconda3/envs/analysis3-20.04/lib/python3.7/site-packages/xarray/core/indexing.py:1343: PerformanceWarning: Slicing with an out-of-order index is generating 165 times more chunks\n",
      "  return self.array[key]\n",
      "/g/data3/hh5/public/apps/miniconda3/envs/analysis3-20.04/lib/python3.7/site-packages/xarray/core/indexing.py:1343: PerformanceWarning: Slicing with an out-of-order index is generating 165 times more chunks\n",
      "  return self.array[key]\n"
     ]
    }
   ],
   "source": [
    "# use functions to calculate the monthly and seasonal anomalies for hemispheres\n",
    "# NH\n",
    "monthly_anom_NH = func.monthly_anomaly(models_NH, '1850-01', '1881-01')\n",
    "seasonal_anom_NH = func.seasonal_anomaly(models_NH, '1850-01', '1881-01')\n",
    "# SH\n",
    "monthly_anom_SH = func.monthly_anomaly(models_SH, '1850-01', '1881-01')\n",
    "seasonal_anom_SH = func.seasonal_anomaly(models_SH, '1850-01', '1881-01')\n"
   ]
  },
  {
   "cell_type": "code",
   "execution_count": 19,
   "metadata": {
    "scrolled": true
   },
   "outputs": [],
   "source": [
    "# # checking if this is working properly\n",
    "# # group the data into months\n",
    "# variable_monthly = models_aus.groupby('time.month')\n",
    "\n",
    "# # calculate the mean climatology along each month for the time period 1850-1900 \n",
    "# clim_monthly = models_aus.sel(time = slice('1850-01', '1881-01')).groupby('time.month').mean(dim = 'time')\n",
    "\n",
    "# # caclulate the anomalies for each month and return it as an array\n",
    "# multi_monthly_anom = (variable_monthly - clim_monthly)\n",
    "\n",
    "# clim_monthly"
   ]
  },
  {
   "cell_type": "markdown",
   "metadata": {},
   "source": [
    "# Kernel keeps dying at the cell below and IDK WHYYYY!!!!!\n"
   ]
  },
  {
   "cell_type": "code",
   "execution_count": 20,
   "metadata": {},
   "outputs": [],
   "source": [
    "hello = [['hel', 'hel'],['hel', 'hel']]\n",
    "lo = [['lo','lo'],['lo','lo']]\n"
   ]
  },
  {
   "cell_type": "code",
   "execution_count": 21,
   "metadata": {},
   "outputs": [
    {
     "name": "stdout",
     "output_type": "stream",
     "text": [
      "['hel', 'hel', 'lo', 'lo']\n",
      "['hel', 'hel', 'lo', 'lo']\n"
     ]
    }
   ],
   "source": [
    "\n",
    "for idx, val in enumerate(hello):\n",
    "    sum1 = hello[idx]+lo[idx]\n",
    "    print(sum1)"
   ]
  },
  {
   "cell_type": "code",
   "execution_count": 22,
   "metadata": {
    "scrolled": false
   },
   "outputs": [
    {
     "name": "stderr",
     "output_type": "stream",
     "text": [
      "/g/data3/hh5/public/apps/miniconda3/envs/analysis3-20.04/lib/python3.7/site-packages/xarray/core/indexing.py:1343: PerformanceWarning: Slicing with an out-of-order index is generating 165 times more chunks\n",
      "  return self.array[key]\n",
      "/g/data3/hh5/public/apps/miniconda3/envs/analysis3-20.04/lib/python3.7/site-packages/xarray/core/indexing.py:1343: PerformanceWarning: Slicing with an out-of-order index is generating 165 times more chunks\n",
      "  return self.array[key]\n",
      "/g/data3/hh5/public/apps/miniconda3/envs/analysis3-20.04/lib/python3.7/site-packages/xarray/core/indexing.py:1343: PerformanceWarning: Slicing with an out-of-order index is generating 165 times more chunks\n",
      "  return self.array[key]\n",
      "/g/data3/hh5/public/apps/miniconda3/envs/analysis3-20.04/lib/python3.7/site-packages/xarray/core/indexing.py:1343: PerformanceWarning: Slicing with an out-of-order index is generating 165 times more chunks\n",
      "  return self.array[key]\n"
     ]
    }
   ],
   "source": [
    "# use functions to calculate the monthly and seasonal anomalies for aus and E aus\n",
    "# Australia \n",
    "monthly_anom_Aus = func.monthly_anomaly(models_aus, '1850-01', '1881-01')\n",
    "seasonal_anom_Aus = func.seasonal_anomaly(models_aus, '1850-01', '1881-01')\n",
    "\n",
    "# East Australia\n",
    "monthly_anom_EA = func.monthly_anomaly(models_EAus, '1850-01', '1881-01')\n",
    "seasonal_anom_EA = func.seasonal_anomaly(models_EAus, '1850-01', '1881-01')\n"
   ]
  },
  {
   "cell_type": "code",
   "execution_count": 23,
   "metadata": {},
   "outputs": [],
   "source": [
    "# take the mean in longitude and latitude for each model\n",
    "# monthly\n",
    "mean_mon_Glob = monthly_anom_glob.mean(dim=('lat','lon'))\n",
    "mean_mon_NH = monthly_anom_NH.mean(dim=('lat','lon'))\n",
    "mean_mon_SH = monthly_anom_SH.mean(dim=('lat','lon'))\n",
    "mean_mon_Aus = monthly_anom_Aus.mean(dim=('lat','lon'))\n",
    "mean_mon_EA = monthly_anom_EA.mean(dim=('lat','lon'))\n",
    "\n",
    "# Seasonal\n",
    "mean_seasonal_Glob = seasonal_anom_glob.mean(dim=('lat','lon'))\n",
    "mean_seasonal_NH = seasonal_anom_NH.mean(dim=('lat','lon'))\n",
    "mean_seasonal_SH = seasonal_anom_SH.mean(dim=('lat','lon'))\n",
    "mean_seasonal_Aus = seasonal_anom_Aus.mean(dim=('lat','lon'))\n",
    "mean_seasonal_EA = seasonal_anom_EA.mean(dim=('lat','lon'))"
   ]
  },
  {
   "cell_type": "code",
   "execution_count": 24,
   "metadata": {
    "scrolled": true
   },
   "outputs": [],
   "source": [
    "# calculate the percentiles and then take the mean along the model dimension for monthly anomalies\n",
    "# 10th percentile\n",
    "p10_mon_Glob = mean_mon_Glob.chunk({'model': -1}).quantile(0.1, dim=['model']) # this one is right\n",
    "p10_mon_NH = mean_mon_NH.chunk({'model': -1}).quantile(0.1, dim=['model'])\n",
    "p10_mon_SH = mean_mon_SH.chunk({'model': -1}).quantile(0.1, dim=['model'])\n",
    "p10_mon_Aus = mean_mon_Aus.chunk({'model': -1}).quantile(0.1, dim=['model'])\n",
    "p10_mon_EA = mean_mon_EA.chunk({'model': -1}).quantile(0.1, dim=['model'])\n",
    "\n",
    "# 90th percentile\n",
    "p90_mon_Glob = mean_mon_Glob.chunk({'model': -1}).quantile(0.9, dim=['model'])\n",
    "p90_mon_NH = mean_mon_NH.chunk({'model': -1}).quantile(0.9, dim=['model'])\n",
    "p90_mon_SH = mean_mon_SH.chunk({'model': -1}).quantile(0.9, dim=['model'])\n",
    "p90_mon_Aus = mean_mon_Aus.chunk({'model': -1}).quantile(0.9, dim=['model'])\n",
    "p90_mon_EA = mean_mon_EA.chunk({'model': -1}).quantile(0.9, dim=['model'])\n"
   ]
  },
  {
   "cell_type": "code",
   "execution_count": 25,
   "metadata": {},
   "outputs": [],
   "source": [
    "# calculate the percentiles and then take the mean along the model dimension for seasonal anomalies\n",
    "# 10th percentile\n",
    "p10_seasonal_Glob = mean_seasonal_Glob.chunk({'model': -1}).quantile(0.1, dim=['model'])\n",
    "p10_seasonal_SH = mean_seasonal_SH.chunk({'model': -1}).quantile(0.1, dim=['model'])\n",
    "p10_seasonal_Aus = mean_seasonal_Aus.chunk({'model': -1}).quantile(0.1, dim=['model'])\n",
    "p10_seasonal_EA = mean_seasonal_EA.chunk({'model': -1}).quantile(0.1, dim=['model'])\n",
    "\n",
    "# 90th percentile\n",
    "p90_seasonal_Glob = mean_seasonal_Glob.chunk({'model': -1}).quantile(0.9, dim=['model'])\n",
    "p90_seasonal_NH = mean_seasonal_NH.chunk({'model': -1}).quantile(0.9, dim=['model'])\n",
    "p90_seasonal_SH = mean_seasonal_SH.chunk({'model': -1}).quantile(0.9, dim=['model'])\n",
    "p90_seasonal_Aus = mean_seasonal_Aus.chunk({'model': -1}).quantile(0.9, dim=['model'])\n",
    "p90_seasonal_EA = mean_seasonal_EA.chunk({'model': -1}).quantile(0.9, dim=['model'])\n"
   ]
  },
  {
   "cell_type": "code",
   "execution_count": 26,
   "metadata": {},
   "outputs": [],
   "source": [
    "# calculate the multi model mean \n",
    "# monthly\n",
    "mmm_mon_Glob = mean_mon_Glob.mean(dim='model')\n",
    "mmm_mon_NH = mean_mon_NH.mean(dim='model')\n",
    "mmm_mon_SH = mean_mon_SH.mean(dim='model')\n",
    "mmm_mon_Aus = mean_mon_Aus.mean(dim='model')\n",
    "mmm_mon_EA = mean_mon_EA.mean(dim='model')\n",
    "\n",
    "# seasonal\n",
    "mmm_seasonal_Glob = mean_seasonal_Glob.mean(dim='model')\n",
    "mmm_seasonal_NH = mean_seasonal_NH.mean(dim='model')\n",
    "mmm_seasonal_SH = mean_seasonal_SH.mean(dim='model')\n",
    "mmm_seasonal_Aus = mean_seasonal_Aus.mean(dim='model')\n",
    "mmm_seasonal_EA = mean_seasonal_EA.mean(dim='model')"
   ]
  },
  {
   "cell_type": "code",
   "execution_count": 27,
   "metadata": {},
   "outputs": [],
   "source": [
    "# calculate the standard deviation for each model over the time period from 1850-1880\n",
    "std_Glob = mean_mon_Glob.sel(time = slice('1850-01', '1881-01')).std(dim = ['time'])\n",
    "std_SH = mean_mon_SH.sel(time = slice('1850-01', '1881-01')).std(dim = ['time'])\n",
    "std_Aus = mean_mon_Aus.sel(time = slice('1850-01', '1881-01')).std(dim = ['time'])\n",
    "std_EA = mean_mon_EA.sel(time = slice('1850-01', '1881-01')).std(dim = ['time'])"
   ]
  },
  {
   "cell_type": "code",
   "execution_count": null,
   "metadata": {},
   "outputs": [],
   "source": []
  },
  {
   "cell_type": "code",
   "execution_count": null,
   "metadata": {},
   "outputs": [],
   "source": [
    "# might want to append eruptions into one array\n",
    "#     ds=[]\n",
    "#     ds.append(K)\n",
    "#     ds.append(S)\n",
    "#     ds.append(A)\n",
    "#     ds.append(E)\n",
    "#     ds.append(P)"
   ]
  },
  {
   "cell_type": "code",
   "execution_count": 29,
   "metadata": {
    "scrolled": true
   },
   "outputs": [
    {
     "name": "stdout",
     "output_type": "stream",
     "text": [
      "0.016340202095109016\n"
     ]
    }
   ],
   "source": [
    "std = std_Glob.pr.sel(model='ACCESS-CM2').values\n",
    "model1 = mean_mon_Glob.pr.sel(model='ACCESS-CM2')\n",
    "print(std)"
   ]
  },
  {
   "cell_type": "code",
   "execution_count": 31,
   "metadata": {},
   "outputs": [],
   "source": [
    "hola = model1.values < std"
   ]
  },
  {
   "cell_type": "code",
   "execution_count": 32,
   "metadata": {},
   "outputs": [
    {
     "data": {
      "text/plain": [
       "array([ True,  True,  True, ..., False,  True, False])"
      ]
     },
     "execution_count": 32,
     "metadata": {},
     "output_type": "execute_result"
    }
   ],
   "source": [
    "hola"
   ]
  },
  {
   "cell_type": "markdown",
   "metadata": {},
   "source": [
    "## .where function\n",
    "There are two kinds of .where().  dataset.where() is used for masking on a dataarray, while the top level xr.where(condition, option1, option2) chooses between 2 values.  "
   ]
  },
  {
   "cell_type": "code",
   "execution_count": 56,
   "metadata": {
    "scrolled": true
   },
   "outputs": [
    {
     "name": "stdout",
     "output_type": "stream",
     "text": [
      "[1 1 1 ... 0 1 0]\n"
     ]
    }
   ],
   "source": [
    "model_test =  xr.where(model1.values < std, 1,0)\n",
    "print(model_test) # values aren't just 1 and 0s so not working, perhaps cos arrays aren't the same dims since one has time\n",
    "\n",
    "# if model1 < model1_std:\n",
    "#     print('negative')\n",
    "#     print(model1.values)"
   ]
  },
  {
   "cell_type": "code",
   "execution_count": 57,
   "metadata": {},
   "outputs": [],
   "source": [
    "pr_count =  np.sum(model_test)"
   ]
  },
  {
   "cell_type": "code",
   "execution_count": 60,
   "metadata": {},
   "outputs": [
    {
     "name": "stdout",
     "output_type": "stream",
     "text": [
      "1751\n",
      "1980\n"
     ]
    }
   ],
   "source": [
    "print(pr_count)\n",
    "print(len(model_test))"
   ]
  },
  {
   "cell_type": "code",
   "execution_count": null,
   "metadata": {},
   "outputs": [],
   "source": [
    "for m in std_Glob.model:\n",
    "    if std_Glob.sel(model=m) > mean_mon_Glob "
   ]
  },
  {
   "cell_type": "code",
   "execution_count": null,
   "metadata": {},
   "outputs": [],
   "source": [
    "# calculate the mmm plus/minus std for monthly anom\n",
    "std_mon_Glob = func.std_bounds(mean_mon_Glob, mmm_mon_Glob)\n",
    "std_mon_NH = func.std_bounds(mean_mon_NH, mmm_mon_NH)\n",
    "std_mon_SH = func.std_bounds(mean_mon_SH, mmm_mon_SH)\n",
    "# std_mon_Aus = func.std_bounds(mean_mon_Aus, mmm_mon_Aus)\n",
    "# std_mon_EA = func.std_bounds(mean_mon_EA, mmm_mon_EA)\n"
   ]
  },
  {
   "cell_type": "markdown",
   "metadata": {},
   "source": [
    "## Model test \n",
    "Check to see which models have a cooling signal "
   ]
  },
  {
   "cell_type": "code",
   "execution_count": null,
   "metadata": {
    "scrolled": true
   },
   "outputs": [],
   "source": [
    "model_test =  mean_mon_Glob.where(mean_mon_Glob < std_Glob, 1,0)\n",
    "model_test.pr"
   ]
  },
  {
   "cell_type": "code",
   "execution_count": null,
   "metadata": {},
   "outputs": [],
   "source": [
    "model_test.sel(model = 'ACCESS')"
   ]
  },
  {
   "cell_type": "code",
   "execution_count": null,
   "metadata": {},
   "outputs": [],
   "source": [
    "pr_count =  np.sum(model_test.pr)\n",
    "print(pr_count.values)"
   ]
  },
  {
   "cell_type": "code",
   "execution_count": null,
   "metadata": {
    "scrolled": true
   },
   "outputs": [],
   "source": [
    "print(pr_count.values)"
   ]
  },
  {
   "cell_type": "markdown",
   "metadata": {},
   "source": [
    "## Figures"
   ]
  },
  {
   "cell_type": "code",
   "execution_count": null,
   "metadata": {},
   "outputs": [],
   "source": [
    "# eruption date\n",
    "e_date = ['1883-08','1902-10', '1963-03', '1982-04', '1991-06']\n",
    "e_pre5yrs = ['1878-08','1897-10', '1958-03', '1977-04', '1986-06']\n",
    "e_pre3mon = ['1883-05','1902-7', '1962-12', '1982-01', '1991-03']\n",
    "e_post5yrs = ['1888-08','1907-10', '1968-03', '1987-04', '1996-06']\n",
    "e_post10yrs = ['1893-08','1912-10', '1973-03', '1992-04', '2001-06']"
   ]
  },
  {
   "cell_type": "code",
   "execution_count": null,
   "metadata": {},
   "outputs": [],
   "source": []
  }
 ],
 "metadata": {
  "kernelspec": {
   "display_name": "Python 3",
   "language": "python",
   "name": "python3"
  },
  "language_info": {
   "codemirror_mode": {
    "name": "ipython",
    "version": 3
   },
   "file_extension": ".py",
   "mimetype": "text/x-python",
   "name": "python",
   "nbconvert_exporter": "python",
   "pygments_lexer": "ipython3",
   "version": "3.7.6"
  }
 },
 "nbformat": 4,
 "nbformat_minor": 4
}
