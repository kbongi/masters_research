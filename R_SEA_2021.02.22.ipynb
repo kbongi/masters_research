{
 "cells": [
  {
   "cell_type": "markdown",
   "metadata": {},
   "source": [
    "# Superposed Epoch Analysis CMIP6 Historical model runs\n",
    "- opens all the C20C (20th century reanalysis data) files with data on precipitation prate and surface temperature tmax\n",
    "- calculates monthly anomalies (based on 5-yr climatology) for 4 spatial regions (global, SH, Aus, E Aus) and 5 eruptions\n",
    "- calculates percentiles (10, 90) to show model spread\n",
    "- superposes the time-series for 5 eruptions plus mmm for tas and pr and different regions (superposed epoch analysis)"
   ]
  },
  {
   "cell_type": "code",
   "execution_count": 2,
   "metadata": {},
   "outputs": [],
   "source": [
    "import xarray as xr, matplotlib.pyplot as plt\n",
    "from importlib import reload # need to use this if I edit a function file\n",
    "import os\n",
    "import numpy as np\n",
    "import pandas as pd\n",
    "import cartopy.crs as ccrs # to add in continents and change map projections \n",
    "from matplotlib.colors import LinearSegmentedColormap # to change colour bar????\n",
    "import dask.diagnostics # dask allows you to check how long something is taking to load\n",
    "import seaborn as sns"
   ]
  },
  {
   "cell_type": "code",
   "execution_count": 3,
   "metadata": {},
   "outputs": [],
   "source": [
    "# import custom functions\n",
    "import sys \n",
    "sys.path.append('/home/563/kb6999/Functions') # use this if the function file is in a different directory to the notebook\n",
    "\n",
    "import frequently_used_functions as func\n",
    "import plotting_functions as fplot\n",
    "import model_functions as funcM\n",
    "import reanalysis_functions as funcR"
   ]
  },
  {
   "cell_type": "code",
   "execution_count": 4,
   "metadata": {},
   "outputs": [],
   "source": [
    "# read in precipitation data\n",
    "ds_prate = xr.open_mfdataset('/g/data/ua8/C20C/v3/mean_daily/prate/*.nc', combine='by_coords', chunks={'time': 12})"
   ]
  },
  {
   "cell_type": "code",
   "execution_count": 5,
   "metadata": {},
   "outputs": [],
   "source": [
    "# read in temperature data\n",
    "ds_tmax = xr.open_mfdataset('/g/data/ua8/C20C/v3/mean_daily/tmax_2m/*.nc', combine='by_coords', chunks={'time': 12})"
   ]
  },
  {
   "cell_type": "code",
   "execution_count": 6,
   "metadata": {
    "scrolled": true
   },
   "outputs": [],
   "source": [
    "# combine precipitation and temperature into one dataset\n",
    "C20C = xr.Dataset({'tmax': ds_tmax.tmax, 'prate': ds_prate.prate})\n",
    "# change the pr units\n",
    "C20C['prate'] = C20C.prate*86400"
   ]
  },
  {
   "cell_type": "code",
   "execution_count": 7,
   "metadata": {},
   "outputs": [],
   "source": [
    "# select out the same time period as the models\n",
    "C20C = C20C.sel(time=slice('1850-01', '2015-01'))"
   ]
  },
  {
   "cell_type": "markdown",
   "metadata": {},
   "source": [
    "## Area weighting and land frac"
   ]
  },
  {
   "cell_type": "code",
   "execution_count": 8,
   "metadata": {},
   "outputs": [],
   "source": [
    "# import landmask dataset \n",
    "landfrac_ds = xr.open_dataset('/g/data/ua8/C20C/v3/LAND.nc')\n",
    "landmask = landfrac_ds.mean(dim='time')"
   ]
  },
  {
   "cell_type": "code",
   "execution_count": 9,
   "metadata": {},
   "outputs": [
    {
     "data": {
      "text/html": [
       "<div><svg style=\"position: absolute; width: 0; height: 0; overflow: hidden\">\n",
       "<defs>\n",
       "<symbol id=\"icon-database\" viewBox=\"0 0 32 32\">\n",
       "<path d=\"M16 0c-8.837 0-16 2.239-16 5v4c0 2.761 7.163 5 16 5s16-2.239 16-5v-4c0-2.761-7.163-5-16-5z\"></path>\n",
       "<path d=\"M16 17c-8.837 0-16-2.239-16-5v6c0 2.761 7.163 5 16 5s16-2.239 16-5v-6c0 2.761-7.163 5-16 5z\"></path>\n",
       "<path d=\"M16 26c-8.837 0-16-2.239-16-5v6c0 2.761 7.163 5 16 5s16-2.239 16-5v-6c0 2.761-7.163 5-16 5z\"></path>\n",
       "</symbol>\n",
       "<symbol id=\"icon-file-text2\" viewBox=\"0 0 32 32\">\n",
       "<path d=\"M28.681 7.159c-0.694-0.947-1.662-2.053-2.724-3.116s-2.169-2.030-3.116-2.724c-1.612-1.182-2.393-1.319-2.841-1.319h-15.5c-1.378 0-2.5 1.121-2.5 2.5v27c0 1.378 1.122 2.5 2.5 2.5h23c1.378 0 2.5-1.122 2.5-2.5v-19.5c0-0.448-0.137-1.23-1.319-2.841zM24.543 5.457c0.959 0.959 1.712 1.825 2.268 2.543h-4.811v-4.811c0.718 0.556 1.584 1.309 2.543 2.268zM28 29.5c0 0.271-0.229 0.5-0.5 0.5h-23c-0.271 0-0.5-0.229-0.5-0.5v-27c0-0.271 0.229-0.5 0.5-0.5 0 0 15.499-0 15.5 0v7c0 0.552 0.448 1 1 1h7v19.5z\"></path>\n",
       "<path d=\"M23 26h-14c-0.552 0-1-0.448-1-1s0.448-1 1-1h14c0.552 0 1 0.448 1 1s-0.448 1-1 1z\"></path>\n",
       "<path d=\"M23 22h-14c-0.552 0-1-0.448-1-1s0.448-1 1-1h14c0.552 0 1 0.448 1 1s-0.448 1-1 1z\"></path>\n",
       "<path d=\"M23 18h-14c-0.552 0-1-0.448-1-1s0.448-1 1-1h14c0.552 0 1 0.448 1 1s-0.448 1-1 1z\"></path>\n",
       "</symbol>\n",
       "</defs>\n",
       "</svg>\n",
       "<style>/* CSS stylesheet for displaying xarray objects in jupyterlab.\n",
       " *\n",
       " */\n",
       "\n",
       ":root {\n",
       "  --xr-font-color0: var(--jp-content-font-color0, rgba(0, 0, 0, 1));\n",
       "  --xr-font-color2: var(--jp-content-font-color2, rgba(0, 0, 0, 0.54));\n",
       "  --xr-font-color3: var(--jp-content-font-color3, rgba(0, 0, 0, 0.38));\n",
       "  --xr-border-color: var(--jp-border-color2, #e0e0e0);\n",
       "  --xr-disabled-color: var(--jp-layout-color3, #bdbdbd);\n",
       "  --xr-background-color: var(--jp-layout-color0, white);\n",
       "  --xr-background-color-row-even: var(--jp-layout-color1, white);\n",
       "  --xr-background-color-row-odd: var(--jp-layout-color2, #eeeeee);\n",
       "}\n",
       "\n",
       "html[theme=dark],\n",
       "body.vscode-dark {\n",
       "  --xr-font-color0: rgba(255, 255, 255, 1);\n",
       "  --xr-font-color2: rgba(255, 255, 255, 0.54);\n",
       "  --xr-font-color3: rgba(255, 255, 255, 0.38);\n",
       "  --xr-border-color: #1F1F1F;\n",
       "  --xr-disabled-color: #515151;\n",
       "  --xr-background-color: #111111;\n",
       "  --xr-background-color-row-even: #111111;\n",
       "  --xr-background-color-row-odd: #313131;\n",
       "}\n",
       "\n",
       ".xr-wrap {\n",
       "  display: block;\n",
       "  min-width: 300px;\n",
       "  max-width: 700px;\n",
       "}\n",
       "\n",
       ".xr-text-repr-fallback {\n",
       "  /* fallback to plain text repr when CSS is not injected (untrusted notebook) */\n",
       "  display: none;\n",
       "}\n",
       "\n",
       ".xr-header {\n",
       "  padding-top: 6px;\n",
       "  padding-bottom: 6px;\n",
       "  margin-bottom: 4px;\n",
       "  border-bottom: solid 1px var(--xr-border-color);\n",
       "}\n",
       "\n",
       ".xr-header > div,\n",
       ".xr-header > ul {\n",
       "  display: inline;\n",
       "  margin-top: 0;\n",
       "  margin-bottom: 0;\n",
       "}\n",
       "\n",
       ".xr-obj-type,\n",
       ".xr-array-name {\n",
       "  margin-left: 2px;\n",
       "  margin-right: 10px;\n",
       "}\n",
       "\n",
       ".xr-obj-type {\n",
       "  color: var(--xr-font-color2);\n",
       "}\n",
       "\n",
       ".xr-sections {\n",
       "  padding-left: 0 !important;\n",
       "  display: grid;\n",
       "  grid-template-columns: 150px auto auto 1fr 20px 20px;\n",
       "}\n",
       "\n",
       ".xr-section-item {\n",
       "  display: contents;\n",
       "}\n",
       "\n",
       ".xr-section-item input {\n",
       "  display: none;\n",
       "}\n",
       "\n",
       ".xr-section-item input + label {\n",
       "  color: var(--xr-disabled-color);\n",
       "}\n",
       "\n",
       ".xr-section-item input:enabled + label {\n",
       "  cursor: pointer;\n",
       "  color: var(--xr-font-color2);\n",
       "}\n",
       "\n",
       ".xr-section-item input:enabled + label:hover {\n",
       "  color: var(--xr-font-color0);\n",
       "}\n",
       "\n",
       ".xr-section-summary {\n",
       "  grid-column: 1;\n",
       "  color: var(--xr-font-color2);\n",
       "  font-weight: 500;\n",
       "}\n",
       "\n",
       ".xr-section-summary > span {\n",
       "  display: inline-block;\n",
       "  padding-left: 0.5em;\n",
       "}\n",
       "\n",
       ".xr-section-summary-in:disabled + label {\n",
       "  color: var(--xr-font-color2);\n",
       "}\n",
       "\n",
       ".xr-section-summary-in + label:before {\n",
       "  display: inline-block;\n",
       "  content: '►';\n",
       "  font-size: 11px;\n",
       "  width: 15px;\n",
       "  text-align: center;\n",
       "}\n",
       "\n",
       ".xr-section-summary-in:disabled + label:before {\n",
       "  color: var(--xr-disabled-color);\n",
       "}\n",
       "\n",
       ".xr-section-summary-in:checked + label:before {\n",
       "  content: '▼';\n",
       "}\n",
       "\n",
       ".xr-section-summary-in:checked + label > span {\n",
       "  display: none;\n",
       "}\n",
       "\n",
       ".xr-section-summary,\n",
       ".xr-section-inline-details {\n",
       "  padding-top: 4px;\n",
       "  padding-bottom: 4px;\n",
       "}\n",
       "\n",
       ".xr-section-inline-details {\n",
       "  grid-column: 2 / -1;\n",
       "}\n",
       "\n",
       ".xr-section-details {\n",
       "  display: none;\n",
       "  grid-column: 1 / -1;\n",
       "  margin-bottom: 5px;\n",
       "}\n",
       "\n",
       ".xr-section-summary-in:checked ~ .xr-section-details {\n",
       "  display: contents;\n",
       "}\n",
       "\n",
       ".xr-array-wrap {\n",
       "  grid-column: 1 / -1;\n",
       "  display: grid;\n",
       "  grid-template-columns: 20px auto;\n",
       "}\n",
       "\n",
       ".xr-array-wrap > label {\n",
       "  grid-column: 1;\n",
       "  vertical-align: top;\n",
       "}\n",
       "\n",
       ".xr-preview {\n",
       "  color: var(--xr-font-color3);\n",
       "}\n",
       "\n",
       ".xr-array-preview,\n",
       ".xr-array-data {\n",
       "  padding: 0 5px !important;\n",
       "  grid-column: 2;\n",
       "}\n",
       "\n",
       ".xr-array-data,\n",
       ".xr-array-in:checked ~ .xr-array-preview {\n",
       "  display: none;\n",
       "}\n",
       "\n",
       ".xr-array-in:checked ~ .xr-array-data,\n",
       ".xr-array-preview {\n",
       "  display: inline-block;\n",
       "}\n",
       "\n",
       ".xr-dim-list {\n",
       "  display: inline-block !important;\n",
       "  list-style: none;\n",
       "  padding: 0 !important;\n",
       "  margin: 0;\n",
       "}\n",
       "\n",
       ".xr-dim-list li {\n",
       "  display: inline-block;\n",
       "  padding: 0;\n",
       "  margin: 0;\n",
       "}\n",
       "\n",
       ".xr-dim-list:before {\n",
       "  content: '(';\n",
       "}\n",
       "\n",
       ".xr-dim-list:after {\n",
       "  content: ')';\n",
       "}\n",
       "\n",
       ".xr-dim-list li:not(:last-child):after {\n",
       "  content: ',';\n",
       "  padding-right: 5px;\n",
       "}\n",
       "\n",
       ".xr-has-index {\n",
       "  font-weight: bold;\n",
       "}\n",
       "\n",
       ".xr-var-list,\n",
       ".xr-var-item {\n",
       "  display: contents;\n",
       "}\n",
       "\n",
       ".xr-var-item > div,\n",
       ".xr-var-item label,\n",
       ".xr-var-item > .xr-var-name span {\n",
       "  background-color: var(--xr-background-color-row-even);\n",
       "  margin-bottom: 0;\n",
       "}\n",
       "\n",
       ".xr-var-item > .xr-var-name:hover span {\n",
       "  padding-right: 5px;\n",
       "}\n",
       "\n",
       ".xr-var-list > li:nth-child(odd) > div,\n",
       ".xr-var-list > li:nth-child(odd) > label,\n",
       ".xr-var-list > li:nth-child(odd) > .xr-var-name span {\n",
       "  background-color: var(--xr-background-color-row-odd);\n",
       "}\n",
       "\n",
       ".xr-var-name {\n",
       "  grid-column: 1;\n",
       "}\n",
       "\n",
       ".xr-var-dims {\n",
       "  grid-column: 2;\n",
       "}\n",
       "\n",
       ".xr-var-dtype {\n",
       "  grid-column: 3;\n",
       "  text-align: right;\n",
       "  color: var(--xr-font-color2);\n",
       "}\n",
       "\n",
       ".xr-var-preview {\n",
       "  grid-column: 4;\n",
       "}\n",
       "\n",
       ".xr-var-name,\n",
       ".xr-var-dims,\n",
       ".xr-var-dtype,\n",
       ".xr-preview,\n",
       ".xr-attrs dt {\n",
       "  white-space: nowrap;\n",
       "  overflow: hidden;\n",
       "  text-overflow: ellipsis;\n",
       "  padding-right: 10px;\n",
       "}\n",
       "\n",
       ".xr-var-name:hover,\n",
       ".xr-var-dims:hover,\n",
       ".xr-var-dtype:hover,\n",
       ".xr-attrs dt:hover {\n",
       "  overflow: visible;\n",
       "  width: auto;\n",
       "  z-index: 1;\n",
       "}\n",
       "\n",
       ".xr-var-attrs,\n",
       ".xr-var-data {\n",
       "  display: none;\n",
       "  background-color: var(--xr-background-color) !important;\n",
       "  padding-bottom: 5px !important;\n",
       "}\n",
       "\n",
       ".xr-var-attrs-in:checked ~ .xr-var-attrs,\n",
       ".xr-var-data-in:checked ~ .xr-var-data {\n",
       "  display: block;\n",
       "}\n",
       "\n",
       ".xr-var-data > table {\n",
       "  float: right;\n",
       "}\n",
       "\n",
       ".xr-var-name span,\n",
       ".xr-var-data,\n",
       ".xr-attrs {\n",
       "  padding-left: 25px !important;\n",
       "}\n",
       "\n",
       ".xr-attrs,\n",
       ".xr-var-attrs,\n",
       ".xr-var-data {\n",
       "  grid-column: 1 / -1;\n",
       "}\n",
       "\n",
       "dl.xr-attrs {\n",
       "  padding: 0;\n",
       "  margin: 0;\n",
       "  display: grid;\n",
       "  grid-template-columns: 125px auto;\n",
       "}\n",
       "\n",
       ".xr-attrs dt,\n",
       ".xr-attrs dd {\n",
       "  padding: 0;\n",
       "  margin: 0;\n",
       "  float: left;\n",
       "  padding-right: 10px;\n",
       "  width: auto;\n",
       "}\n",
       "\n",
       ".xr-attrs dt {\n",
       "  font-weight: normal;\n",
       "  grid-column: 1;\n",
       "}\n",
       "\n",
       ".xr-attrs dt:hover span {\n",
       "  display: inline-block;\n",
       "  background: var(--xr-background-color);\n",
       "  padding-right: 10px;\n",
       "}\n",
       "\n",
       ".xr-attrs dd {\n",
       "  grid-column: 2;\n",
       "  white-space: pre-wrap;\n",
       "  word-break: break-all;\n",
       "}\n",
       "\n",
       ".xr-icon-database,\n",
       ".xr-icon-file-text2 {\n",
       "  display: inline-block;\n",
       "  vertical-align: middle;\n",
       "  width: 1em;\n",
       "  height: 1.5em !important;\n",
       "  stroke-width: 0;\n",
       "  stroke: currentColor;\n",
       "  fill: currentColor;\n",
       "}\n",
       "</style><pre class='xr-text-repr-fallback'>&lt;xarray.DataArray &#x27;LAND&#x27; (lat: 256, lon: 512)&gt;\n",
       "array([[0., 0., 0., ..., 0., 0., 0.],\n",
       "       [0., 0., 0., ..., 0., 0., 0.],\n",
       "       [0., 0., 0., ..., 0., 0., 0.],\n",
       "       ...,\n",
       "       [1., 1., 1., ..., 1., 1., 1.],\n",
       "       [1., 1., 1., ..., 1., 1., 1.],\n",
       "       [1., 1., 1., ..., 1., 1., 1.]], dtype=float32)\n",
       "Coordinates:\n",
       "  * lon      (lon) float64 0.0 0.7031 1.406 2.109 ... 357.2 357.9 358.6 359.3\n",
       "  * lat      (lat) float64 89.46 88.77 88.07 87.37 ... -88.07 -88.77 -89.46</pre><div class='xr-wrap' hidden><div class='xr-header'><div class='xr-obj-type'>xarray.DataArray</div><div class='xr-array-name'>'LAND'</div><ul class='xr-dim-list'><li><span class='xr-has-index'>lat</span>: 256</li><li><span class='xr-has-index'>lon</span>: 512</li></ul></div><ul class='xr-sections'><li class='xr-section-item'><div class='xr-array-wrap'><input id='section-65af34f4-c6c0-426d-ae12-d8085e5219d0' class='xr-array-in' type='checkbox' checked><label for='section-65af34f4-c6c0-426d-ae12-d8085e5219d0' title='Show/hide data repr'><svg class='icon xr-icon-database'><use xlink:href='#icon-database'></use></svg></label><div class='xr-array-preview xr-preview'><span>0.0 0.0 0.0 0.0 0.0 0.0 0.0 0.0 ... 1.0 1.0 1.0 1.0 1.0 1.0 1.0 1.0</span></div><div class='xr-array-data'><pre>array([[0., 0., 0., ..., 0., 0., 0.],\n",
       "       [0., 0., 0., ..., 0., 0., 0.],\n",
       "       [0., 0., 0., ..., 0., 0., 0.],\n",
       "       ...,\n",
       "       [1., 1., 1., ..., 1., 1., 1.],\n",
       "       [1., 1., 1., ..., 1., 1., 1.],\n",
       "       [1., 1., 1., ..., 1., 1., 1.]], dtype=float32)</pre></div></div></li><li class='xr-section-item'><input id='section-8c49105f-ca1c-4e0e-8ca9-f62ca82c030a' class='xr-section-summary-in' type='checkbox'  checked><label for='section-8c49105f-ca1c-4e0e-8ca9-f62ca82c030a' class='xr-section-summary' >Coordinates: <span>(2)</span></label><div class='xr-section-inline-details'></div><div class='xr-section-details'><ul class='xr-var-list'><li class='xr-var-item'><div class='xr-var-name'><span class='xr-has-index'>lon</span></div><div class='xr-var-dims'>(lon)</div><div class='xr-var-dtype'>float64</div><div class='xr-var-preview xr-preview'>0.0 0.7031 1.406 ... 358.6 359.3</div><input id='attrs-3269d107-021e-4ad7-b546-09026dd37ff8' class='xr-var-attrs-in' type='checkbox' ><label for='attrs-3269d107-021e-4ad7-b546-09026dd37ff8' title='Show/Hide attributes'><svg class='icon xr-icon-file-text2'><use xlink:href='#icon-file-text2'></use></svg></label><input id='data-a04c0d3d-cf6d-47f0-aec0-cb01aac3068f' class='xr-var-data-in' type='checkbox'><label for='data-a04c0d3d-cf6d-47f0-aec0-cb01aac3068f' title='Show/Hide data repr'><svg class='icon xr-icon-database'><use xlink:href='#icon-database'></use></svg></label><div class='xr-var-attrs'><dl class='xr-attrs'><dt><span>standard_name :</span></dt><dd>longitude</dd><dt><span>long_name :</span></dt><dd>longitude</dd><dt><span>units :</span></dt><dd>degrees_east</dd><dt><span>axis :</span></dt><dd>X</dd></dl></div><div class='xr-var-data'><pre>array([  0.      ,   0.703125,   1.40625 , ..., 357.890625, 358.59375 ,\n",
       "       359.296875])</pre></div></li><li class='xr-var-item'><div class='xr-var-name'><span class='xr-has-index'>lat</span></div><div class='xr-var-dims'>(lat)</div><div class='xr-var-dtype'>float64</div><div class='xr-var-preview xr-preview'>89.46 88.77 88.07 ... -88.77 -89.46</div><input id='attrs-e0cdc888-3b89-46e8-bcb8-6dc76d098ef1' class='xr-var-attrs-in' type='checkbox' ><label for='attrs-e0cdc888-3b89-46e8-bcb8-6dc76d098ef1' title='Show/Hide attributes'><svg class='icon xr-icon-file-text2'><use xlink:href='#icon-file-text2'></use></svg></label><input id='data-6734914b-9fcc-4e9a-abf2-92fef3fba554' class='xr-var-data-in' type='checkbox'><label for='data-6734914b-9fcc-4e9a-abf2-92fef3fba554' title='Show/Hide data repr'><svg class='icon xr-icon-database'><use xlink:href='#icon-database'></use></svg></label><div class='xr-var-attrs'><dl class='xr-attrs'><dt><span>standard_name :</span></dt><dd>latitude</dd><dt><span>long_name :</span></dt><dd>latitude</dd><dt><span>units :</span></dt><dd>degrees_north</dd><dt><span>axis :</span></dt><dd>Y</dd></dl></div><div class='xr-var-data'><pre>array([ 89.462822,  88.766951,  88.066972, ..., -88.066972, -88.766951,\n",
       "       -89.462822])</pre></div></li></ul></div></li><li class='xr-section-item'><input id='section-d6a3690e-7e87-4357-97e1-6e26c22b2353' class='xr-section-summary-in' type='checkbox' disabled ><label for='section-d6a3690e-7e87-4357-97e1-6e26c22b2353' class='xr-section-summary'  title='Expand/collapse section'>Attributes: <span>(0)</span></label><div class='xr-section-inline-details'></div><div class='xr-section-details'><dl class='xr-attrs'></dl></div></li></ul></div></div>"
      ],
      "text/plain": [
       "<xarray.DataArray 'LAND' (lat: 256, lon: 512)>\n",
       "array([[0., 0., 0., ..., 0., 0., 0.],\n",
       "       [0., 0., 0., ..., 0., 0., 0.],\n",
       "       [0., 0., 0., ..., 0., 0., 0.],\n",
       "       ...,\n",
       "       [1., 1., 1., ..., 1., 1., 1.],\n",
       "       [1., 1., 1., ..., 1., 1., 1.],\n",
       "       [1., 1., 1., ..., 1., 1., 1.]], dtype=float32)\n",
       "Coordinates:\n",
       "  * lon      (lon) float64 0.0 0.7031 1.406 2.109 ... 357.2 357.9 358.6 359.3\n",
       "  * lat      (lat) float64 89.46 88.77 88.07 87.37 ... -88.07 -88.77 -89.46"
      ]
     },
     "execution_count": 9,
     "metadata": {},
     "output_type": "execute_result"
    }
   ],
   "source": [
    "landmask.LAND"
   ]
  },
  {
   "cell_type": "code",
   "execution_count": 10,
   "metadata": {},
   "outputs": [],
   "source": [
    "# area weighting \n",
    "C20C_w = C20C*np.cos(C20C.lat*(np.pi/180))"
   ]
  },
  {
   "cell_type": "markdown",
   "metadata": {},
   "source": [
    "## Group the data by month"
   ]
  },
  {
   "cell_type": "code",
   "execution_count": 11,
   "metadata": {},
   "outputs": [],
   "source": [
    "# group the data by month (take the monthly mean)\n",
    "C20C_mon = C20C_w.resample(time='M').mean(dim='time')"
   ]
  },
  {
   "cell_type": "code",
   "execution_count": 12,
   "metadata": {},
   "outputs": [],
   "source": [
    "# eruption date\n",
    "e_date = pd.to_datetime(['1883-08','1902-10', '1963-03', '1982-04', '1991-06'])"
   ]
  },
  {
   "cell_type": "code",
   "execution_count": 13,
   "metadata": {},
   "outputs": [],
   "source": [
    "# save arrays of times relative to each eruption\n",
    "e_pre5yrs = e_date - 60 * pd.offsets.MonthBegin()\n",
    "e_pre3mon = e_date - 3 * pd.offsets.MonthBegin()\n",
    "e_post5yrs = e_date + 61 * pd.offsets.MonthBegin()"
   ]
  },
  {
   "cell_type": "code",
   "execution_count": 14,
   "metadata": {},
   "outputs": [],
   "source": [
    "# eruption names\n",
    "volcanoes = ['Krakatau', 'Santa Maria','Agung','El Chichon', 'Pinatubo']"
   ]
  },
  {
   "cell_type": "code",
   "execution_count": 15,
   "metadata": {},
   "outputs": [],
   "source": [
    "# select out the 10 year time frame around each eruption (5yrs before and after)\n",
    "# tas\n",
    "Krakatau = C20C_mon.sel(time = slice(e_pre5yrs[0], e_post5yrs[0]))\n",
    "SantaMaria = C20C_mon.sel(time = slice(e_pre5yrs[1], e_post5yrs[1]))\n",
    "Agung = C20C_mon.sel(time = slice(e_pre5yrs[2], e_post5yrs[2]))\n",
    "ElChicon = C20C_mon.sel(time = slice(e_pre5yrs[3], e_post5yrs[3]))\n",
    "Pinatubo = C20C_mon.sel(time = slice(e_pre5yrs[4], e_post5yrs[4]))"
   ]
  },
  {
   "cell_type": "markdown",
   "metadata": {},
   "source": [
    "# landmask not on same grid as data and so not working"
   ]
  },
  {
   "cell_type": "markdown",
   "metadata": {},
   "source": [
    "## Anomalies"
   ]
  },
  {
   "cell_type": "code",
   "execution_count": 16,
   "metadata": {},
   "outputs": [],
   "source": [
    "# use functions to calculate the monthly anomalies for the globe\n",
    "K_mon_anom_Glob = func.monthly_anomaly(Krakatau, e_pre5yrs[0], e_pre3mon[0])\n",
    "S_mon_anom_Glob = func.monthly_anomaly(SantaMaria, e_pre5yrs[1], e_pre3mon[1])\n",
    "A_mon_anom_Glob = func.monthly_anomaly(Agung, e_pre5yrs[2], e_pre3mon[2])\n",
    "E_mon_anom_Glob = func.monthly_anomaly(ElChicon, e_pre5yrs[3], e_pre3mon[3])\n",
    "P_mon_anom_Glob = func.monthly_anomaly(Pinatubo, e_pre5yrs[4], e_pre3mon[4])"
   ]
  },
  {
   "cell_type": "code",
   "execution_count": 17,
   "metadata": {},
   "outputs": [],
   "source": [
    "# store all eruptions in one array\n",
    "composite_mon_Glob = funcM.reset_time(K_mon_anom_Glob, S_mon_anom_Glob, A_mon_anom_Glob, E_mon_anom_Glob, P_mon_anom_Glob, volcanoes)"
   ]
  },
  {
   "cell_type": "code",
   "execution_count": 18,
   "metadata": {},
   "outputs": [],
   "source": [
    "# select out each region\n",
    "composite_mon_SH = composite_mon_Glob.sel(lat=slice(-90,0))\n",
    "composite_mon_Aus = composite_mon_Glob.sel(lat=slice(-50,-10), lon=slice(110,160))#.where(landmask.data==1, drop=True)\n",
    "composite_mon_EA = composite_mon_Glob.sel(lat=slice(-50,-10), lon=slice(140,155))#.where(landmask.data==1, drop=True)"
   ]
  },
  {
   "cell_type": "markdown",
   "metadata": {},
   "source": [
    "## Mean and percentiles"
   ]
  },
  {
   "cell_type": "code",
   "execution_count": 19,
   "metadata": {},
   "outputs": [],
   "source": [
    "# # calculate the monthly model mean for monthly anomalies\n",
    "# composite_mmm_Glob = composite_mon_Glob.mean(dim='model').mean(dim=('lat','lon'))\n",
    "# composite_mmm_SH = composite_mon_SH.mean(dim='model').mean(dim=('lat','lon'))\n",
    "# composite_mmm_Aus = composite_mon_Aus.mean(dim='model').mean(dim=('lat','lon'))\n",
    "# composite_mmm_EA = composite_mon_EA.mean(dim='model').mean(dim=('lat','lon'))"
   ]
  },
  {
   "cell_type": "code",
   "execution_count": 20,
   "metadata": {},
   "outputs": [],
   "source": [
    "# calcuate the lat lon mean (llm) to use for calculating percentiles\n",
    "composite_llm_Glob = composite_mon_Glob.mean(dim=('lat','lon'))\n",
    "composite_llm_SH = composite_mon_SH.mean(dim=('lat','lon'))\n",
    "composite_llm_Aus = composite_mon_Aus.mean(dim=('lat','lon'))\n",
    "composite_llm_EA = composite_mon_EA.mean(dim=('lat','lon'))"
   ]
  },
  {
   "cell_type": "code",
   "execution_count": 21,
   "metadata": {},
   "outputs": [],
   "source": [
    "# # calculate percentile\n",
    "# # 10th percentile\n",
    "# p10_Glob = composite_llm_Glob.chunk({'model': -1,'volcano': -1}).quantile(0.1, dim=['model', 'volcano'])\n",
    "# p10_SH = composite_llm_SH.chunk({'model': -1,'volcano': -1}).quantile(0.1, dim=['model', 'volcano'])\n",
    "# p10_Aus = composite_llm_Aus.chunk({'model': -1,'volcano': -1}).quantile(0.1, dim=['model', 'volcano'])\n",
    "# p10_EA = composite_llm_EA.chunk({'model': -1,'volcano': -1}).quantile(0.1, dim=['model', 'volcano'])\n",
    "\n",
    "# # 90th percentile\n",
    "# p90_Glob = composite_llm_Glob.chunk({'model': -1,'volcano': -1}).quantile(0.9, dim=['model', 'volcano'])\n",
    "# p90_SH = composite_llm_SH.chunk({'model': -1,'volcano': -1}).quantile(0.9, dim=['model', 'volcano'])\n",
    "# p90_Aus = composite_llm_Aus.chunk({'model': -1,'volcano': -1}).quantile(0.9, dim=['model', 'volcano'])\n",
    "# p90_EA = composite_llm_EA.chunk({'model': -1,'volcano': -1}).quantile(0.9, dim=['model', 'volcano'])"
   ]
  },
  {
   "cell_type": "code",
   "execution_count": 22,
   "metadata": {},
   "outputs": [],
   "source": [
    "# take the composite over all volcanoes\n",
    "V_composite_mmm_Glob = composite_llm_Glob.mean(dim='volcano')\n",
    "V_composite_mmm_SH = composite_llm_SH.mean(dim='volcano')\n",
    "V_composite_mmm_Aus = composite_llm_Aus.mean(dim='volcano')\n",
    "V_composite_mmm_EA = composite_llm_EA.mean(dim='volcano')"
   ]
  },
  {
   "cell_type": "code",
   "execution_count": 23,
   "metadata": {},
   "outputs": [],
   "source": [
    "# calculate the minimum value of the mmm for each spatial region\n",
    "composite_min_mmm_Glob = V_composite_mmm_Glob.min()\n",
    "composite_min_mmm_SH = V_composite_mmm_SH.min()\n",
    "composite_min_mmm_Aus = V_composite_mmm_Aus.min()\n",
    "composite_min_mmm_EA = V_composite_mmm_EA.min()"
   ]
  },
  {
   "cell_type": "code",
   "execution_count": 44,
   "metadata": {},
   "outputs": [
    {
     "name": "stdout",
     "output_type": "stream",
     "text": [
      "Minimum value of composite temperature signal on each spatial scale is:\n",
      " Global: -0.16 \n",
      " SH: -0.13 \n",
      " Aus: -0.42 \n",
      " EA: -0.46\n",
      "Minimum value of composite precipitation signal on each spatial scale is:\n",
      " Global: -0.05 \n",
      " SH: -0.07 \n",
      " Aus: -0.5 \n",
      " EA: -0.61\n"
     ]
    }
   ],
   "source": [
    "# print minimum values for composite as calculated above\n",
    "print('Minimum value of composite temperature signal on each spatial scale is:\\n Global:', \n",
    "      composite_min_mmm_Glob.tmax.values.round(decimals=2), '\\n SH:', \n",
    "      composite_min_mmm_SH.tmax.values.round(decimals=2), '\\n Aus:', \n",
    "      composite_min_mmm_Aus.tmax.values.round(decimals=2), '\\n EA:', \n",
    "      composite_min_mmm_EA.tmax.values.round(decimals=2))\n",
    "print('Minimum value of composite precipitation signal on each spatial scale is:\\n Global:', \n",
    "      composite_min_mmm_Glob.prate.values.round(decimals=2), '\\n SH:', \n",
    "      composite_min_mmm_SH.prate.values.round(decimals=2), '\\n Aus:', \n",
    "      composite_min_mmm_Aus.prate.values.round(decimals=2), '\\n EA:', \n",
    "      composite_min_mmm_EA.prate.values.round(decimals=2))"
   ]
  },
  {
   "cell_type": "code",
   "execution_count": 45,
   "metadata": {},
   "outputs": [],
   "source": [
    "# calculate the minimum value for Krakatoa in each spatial region\n",
    "K_min_mmm_Glob = composite_llm_Glob.sel(volcano='Krakatau').min()\n",
    "K_min_mmm_SH = composite_llm_SH.sel(volcano='Krakatau').min()\n",
    "K_min_mmm_Aus = composite_llm_Aus.sel(volcano='Krakatau').min()\n",
    "K_min_mmm_EA = composite_llm_EA.sel(volcano='Krakatau').min()"
   ]
  },
  {
   "cell_type": "code",
   "execution_count": 47,
   "metadata": {},
   "outputs": [
    {
     "name": "stdout",
     "output_type": "stream",
     "text": [
      "Minimum value of composite temperature signal on each spatial scale is:\n",
      " Global: -0.29 \n",
      " SH: -0.29 \n",
      " Aus: -0.83 \n",
      " EA: -0.95\n",
      "Minimum value of composite precipitation signal on each spatial scale is:\n",
      " Global: -0.08 \n",
      " SH: -0.15 \n",
      " Aus: -1.25 \n",
      " EA: -1.5\n"
     ]
    }
   ],
   "source": [
    "# print minimum values for Krakatoa as calculated above\n",
    "print('Minimum value of composite temperature signal on each spatial scale is:\\n Global:', \n",
    "      K_min_mmm_Glob.tmax.values.round(decimals=2), '\\n SH:', \n",
    "      K_min_mmm_SH.tmax.values.round(decimals=2), '\\n Aus:', \n",
    "      K_min_mmm_Aus.tmax.values.round(decimals=2), '\\n EA:', \n",
    "      K_min_mmm_EA.tmax.values.round(decimals=2))\n",
    "print('Minimum value of composite precipitation signal on each spatial scale is:\\n Global:', \n",
    "      K_min_mmm_Glob.prate.values.round(decimals=2), '\\n SH:', \n",
    "      K_min_mmm_SH.prate.values.round(decimals=2), '\\n Aus:', \n",
    "      K_min_mmm_Aus.prate.values.round(decimals=2), '\\n EA:', \n",
    "      K_min_mmm_EA.prate.values.round(decimals=2))"
   ]
  },
  {
   "cell_type": "markdown",
   "metadata": {},
   "source": [
    "# Figures"
   ]
  },
  {
   "cell_type": "code",
   "execution_count": 24,
   "metadata": {},
   "outputs": [],
   "source": [
    "blues = sns.color_palette(\"Blues_r\")\n",
    "greens = sns.color_palette(\"Greens_r\")\n",
    "reds = sns.color_palette(\"Reds_r\")"
   ]
  },
  {
   "cell_type": "code",
   "execution_count": 25,
   "metadata": {},
   "outputs": [],
   "source": [
    "# define degree sign\n",
    "deg = u'\\N{DEGREE SIGN}'"
   ]
  },
  {
   "cell_type": "code",
   "execution_count": null,
   "metadata": {
    "scrolled": true
   },
   "outputs": [],
   "source": [
    "# plot monthly anomalies of temperature as a superposed epoch analysis of all 5 eruptions plus composite\n",
    "fig, axes = plt.subplots(2, 2, sharex=True, figsize=(15,10))\n",
    "\n",
    "# make subplots for each region\n",
    "fplot.SEA_plots(composite_llm_Glob.tmax, V_composite_mmm_Glob.tmax, reds, ax = axes[0,0])\n",
    "fplot.SEA_plots(composite_llm_SH.tmax, V_composite_mmm_SH.tmax, reds, ax = axes[0,1])\n",
    "fplot.SEA_plots(composite_llm_Aus.tmax, V_composite_mmm_Aus.tmax, reds, ax = axes[1,0])\n",
    "fplot.SEA_plots(composite_llm_EA.tmax, V_composite_mmm_EA.tmax, reds, ax = axes[1,1])\n",
    "\n",
    "# set axis labels and subplot titles\n",
    "axes[0,0].set(ylabel = f'Temperature anomaly [{deg}C]', title = 'Global') \n",
    "axes[0,1].set(title = 'Southern Hemisphere')\n",
    "axes[1,0].set(xlabel = 'Month relative to eruption', ylabel = f'Temperature anomaly [{deg}C]', title = 'Australia')\n",
    "axes[1,1].set(xlabel = 'Month relative to eruption', title = 'Eastern Australia')\n",
    "\n",
    "#fig.tight_layout() # if I include this line then titles overlap\n",
    "\n",
    "plt.savefig('R_SEA_mon_tmax.png', dpi=300, bbox_inches='tight')"
   ]
  },
  {
   "cell_type": "code",
   "execution_count": null,
   "metadata": {},
   "outputs": [],
   "source": [
    "# plot monthly anomalies of precipitation as a superposed epoch analysis of all 5 eruptions plus composite\n",
    "fig, axes = plt.subplots(2, 2, sharex=True, figsize=(15,10))\n",
    "\n",
    "# make subplots for each region\n",
    "fplot.SEA_plots(composite_llm_Glob.prate, V_composite_mmm_Glob.prate,  greens, ax = axes[0,0])\n",
    "fplot.SEA_plots(composite_llm_SH.prate, V_composite_mmm_SH.prate, greens, ax = axes[0,1])\n",
    "fplot.SEA_plots(composite_llm_Aus.prate, V_composite_mmm_Aus.prate, greens, ax = axes[1,0])\n",
    "fplot.SEA_plots(composite_llm_EA.prate, V_composite_mmm_EA.prate, greens, ax = axes[1,1])\n",
    "\n",
    "#axes[0,0].set_xticks(np.arange(min(composite_mmm_Glob.time), max(composite_mmm_Glob.time)+1, 12))\n",
    "\n",
    "# set axis labels and subplot titles\n",
    "axes[0,0].set(ylabel = 'Precipitation anomaly [mm/day]', title = 'Global') \n",
    "axes[0,1].set(title = 'Southern Hemisphere')\n",
    "axes[1,0].set(ylabel = 'Precipitation anomaly [mm/day]', xlabel = 'Month relative to eruption', title = 'Australia')\n",
    "axes[1,1].set(xlabel = 'Month relative to eruption', title = 'Eastern Australia')\n",
    "\n",
    "#fig.tight_layout() # if I include this line then titles overlap\n",
    "\n",
    "plt.savefig('R_SEA_mon_prate.png', dpi=300, bbox_inches='tight')"
   ]
  },
  {
   "cell_type": "code",
   "execution_count": null,
   "metadata": {},
   "outputs": [],
   "source": []
  }
 ],
 "metadata": {
  "kernelspec": {
   "display_name": "Python 3",
   "language": "python",
   "name": "python3"
  },
  "language_info": {
   "codemirror_mode": {
    "name": "ipython",
    "version": 3
   },
   "file_extension": ".py",
   "mimetype": "text/x-python",
   "name": "python",
   "nbconvert_exporter": "python",
   "pygments_lexer": "ipython3",
   "version": "3.8.6"
  }
 },
 "nbformat": 4,
 "nbformat_minor": 4
}
