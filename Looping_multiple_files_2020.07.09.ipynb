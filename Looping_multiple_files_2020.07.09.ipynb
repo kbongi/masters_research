{
 "cells": [
  {
   "cell_type": "markdown",
   "metadata": {},
   "source": [
    "# CMIP6 Historical model runs\n",
    "This script opens up all the CMIP6 historical model run files with data on precipitation pr and surface temperature tas and loops over the files.\n"
   ]
  },
  {
   "cell_type": "code",
   "execution_count": 1,
   "metadata": {},
   "outputs": [],
   "source": [
    "import xarray as xr, matplotlib.pyplot as plt\n",
    "#import sys \n",
    "#sys.path.append('') # use this if the function file is in a different directory to the notebook\n",
    "from importlib import reload # need to use this if I edit a function file\n",
    "import anomaly_function as func # imports the function\n",
    "import os"
   ]
  },
  {
   "cell_type": "code",
   "execution_count": 2,
   "metadata": {},
   "outputs": [],
   "source": [
    "# use this to reload the function file if I make any edits to it\n",
    "func = reload(func) "
   ]
  },
  {
   "cell_type": "code",
   "execution_count": 3,
   "metadata": {
    "scrolled": true
   },
   "outputs": [
    {
     "name": "stdout",
     "output_type": "stream",
     "text": [
      "AS-RCEC  CCCma\t       E3SM-Project\t    IPSL   NASA-GISS  NUIST\r\n",
      "AWI\t CCCR-IITM     EC-Earth-Consortium  MIROC  NCAR       SNU\r\n",
      "BCC\t CNRM-CERFACS  FIO-QLNM\t\t    MOHC   NCC\t      THU\r\n",
      "CAMS\t CSIRO\t       HAMMOZ-Consortium    MPI-M  NIMS-KMA   UA\r\n",
      "CAS\t CSIRO-ARCCSS  INM\t\t    MRI    NOAA-GFDL\r\n"
     ]
    }
   ],
   "source": [
    "!ls /g/data/lp01/CMIP6/CMIP"
   ]
  },
  {
   "cell_type": "code",
   "execution_count": 4,
   "metadata": {},
   "outputs": [
    {
     "name": "stdout",
     "output_type": "stream",
     "text": [
      "/g/data/lp01/CMIP6/CMIP/ /historical/r1i1p1f1/Amon/tas/gr1.5/\n"
     ]
    }
   ],
   "source": [
    "# store each section of the directory as a string\n",
    "institution_dir = '/g/data/lp01/CMIP6/CMIP/'\n",
    "variable_dir = '/historical/r1i1p1f1/Amon/tas/gr1.5/'\n",
    "print(institution_dir, variable_dir)"
   ]
  },
  {
   "cell_type": "code",
   "execution_count": 5,
   "metadata": {},
   "outputs": [],
   "source": [
    "# store all institutions found in the \n",
    "institution_list = os.listdir(institution_dir)"
   ]
  },
  {
   "cell_type": "code",
   "execution_count": 6,
   "metadata": {
    "scrolled": true
   },
   "outputs": [
    {
     "data": {
      "text/plain": [
       "['HAMMOZ-Consortium',\n",
       " 'NUIST',\n",
       " 'UA',\n",
       " 'CSIRO-ARCCSS',\n",
       " 'MPI-M',\n",
       " 'IPSL',\n",
       " 'CAS',\n",
       " 'BCC',\n",
       " 'THU',\n",
       " 'AS-RCEC',\n",
       " 'NIMS-KMA',\n",
       " 'NASA-GISS',\n",
       " 'AWI',\n",
       " 'MIROC',\n",
       " 'MRI',\n",
       " 'FIO-QLNM',\n",
       " 'CCCma',\n",
       " 'CSIRO',\n",
       " 'NOAA-GFDL',\n",
       " 'MOHC',\n",
       " 'CNRM-CERFACS',\n",
       " 'E3SM-Project',\n",
       " 'INM',\n",
       " 'EC-Earth-Consortium',\n",
       " 'NCC',\n",
       " 'CAMS',\n",
       " 'NCAR',\n",
       " 'SNU',\n",
       " 'CCCR-IITM']"
      ]
     },
     "execution_count": 6,
     "metadata": {},
     "output_type": "execute_result"
    }
   ],
   "source": [
    "institution_list\n"
   ]
  },
  {
   "cell_type": "code",
   "execution_count": 7,
   "metadata": {
    "scrolled": true
   },
   "outputs": [],
   "source": [
    "# creates a dictionary containing the model and model path\n",
    "models = {}\n",
    "\n",
    "# find the models from each instituion and store them in a list\n",
    "for institution in institution_list:\n",
    "    model_list = os.listdir(f'{institution_dir}{institution}')\n",
    "    # find the \n",
    "    for model in model_list:\n",
    "        # check if the historical model with the right variable exists and if so save the version number for the file\n",
    "        if os.path.exists(f'{institution_dir}{institution}/{model}{variable_dir}'):\n",
    "            version = os.listdir(f'{institution_dir}{institution}/{model}{variable_dir}')\n",
    "            # for each version, call model_path to make the path and then store with the model in a dictionary 'models'\n",
    "            for v in version:\n",
    "                path = func.model_path(institution, model, v)\n",
    "                if os.path.exists(f'{path}'):\n",
    "                    models[model] = path\n",
    "               \n"
   ]
  },
  {
   "cell_type": "code",
   "execution_count": 8,
   "metadata": {
    "scrolled": true
   },
   "outputs": [
    {
     "data": {
      "text/plain": [
       "{'MPI-ESM-1-2-HAM': '/g/data/lp01/CMIP6/CMIP/HAMMOZ-Consortium/MPI-ESM-1-2-HAM/historical/r1i1p1f1/Amon/tas/gr1.5/v20190627/tas_Amon_MPI-ESM-1-2-HAM_historical_r1i1p1f1_gr1.5_185001-201412.nc',\n",
       " 'NESM3': '/g/data/lp01/CMIP6/CMIP/NUIST/NESM3/historical/r1i1p1f1/Amon/tas/gr1.5/v20190630/tas_Amon_NESM3_historical_r1i1p1f1_gr1.5_185001-201412.nc',\n",
       " 'ACCESS-CM2': '/g/data/lp01/CMIP6/CMIP/CSIRO-ARCCSS/ACCESS-CM2/historical/r1i1p1f1/Amon/tas/gr1.5/v20190919/tas_Amon_ACCESS-CM2_historical_r1i1p1f1_gr1.5_185001-201412.nc',\n",
       " 'MPI-ESM1-2-HR': '/g/data/lp01/CMIP6/CMIP/MPI-M/MPI-ESM1-2-HR/historical/r1i1p1f1/Amon/tas/gr1.5/v20190710/tas_Amon_MPI-ESM1-2-HR_historical_r1i1p1f1_gr1.5_185001-201412.nc',\n",
       " 'MPI-ESM1-2-LR': '/g/data/lp01/CMIP6/CMIP/MPI-M/MPI-ESM1-2-LR/historical/r1i1p1f1/Amon/tas/gr1.5/v20190710/tas_Amon_MPI-ESM1-2-LR_historical_r1i1p1f1_gr1.5_185001-201412.nc',\n",
       " 'IPSL-CM6A-LR': '/g/data/lp01/CMIP6/CMIP/IPSL/IPSL-CM6A-LR/historical/r1i1p1f1/Amon/tas/gr1.5/v20180803/tas_Amon_IPSL-CM6A-LR_historical_r1i1p1f1_gr1.5_185001-201412.nc',\n",
       " 'CAS-ESM2-0': '/g/data/lp01/CMIP6/CMIP/CAS/CAS-ESM2-0/historical/r1i1p1f1/Amon/tas/gr1.5/v20200302/tas_Amon_CAS-ESM2-0_historical_r1i1p1f1_gr1.5_185001-201412.nc',\n",
       " 'FGOALS-f3-L': '/g/data/lp01/CMIP6/CMIP/CAS/FGOALS-f3-L/historical/r1i1p1f1/Amon/tas/gr1.5/v20190927/tas_Amon_FGOALS-f3-L_historical_r1i1p1f1_gr1.5_185001-201412.nc',\n",
       " 'FGOALS-g3': '/g/data/lp01/CMIP6/CMIP/CAS/FGOALS-g3/historical/r1i1p1f1/Amon/tas/gr1.5/v20190818/tas_Amon_FGOALS-g3_historical_r1i1p1f1_gr1.5_185001-201412.nc',\n",
       " 'BCC-ESM1': '/g/data/lp01/CMIP6/CMIP/BCC/BCC-ESM1/historical/r1i1p1f1/Amon/tas/gr1.5/v20181214/tas_Amon_BCC-ESM1_historical_r1i1p1f1_gr1.5_185001-201412.nc',\n",
       " 'BCC-CSM2-MR': '/g/data/lp01/CMIP6/CMIP/BCC/BCC-CSM2-MR/historical/r1i1p1f1/Amon/tas/gr1.5/v20181126/tas_Amon_BCC-CSM2-MR_historical_r1i1p1f1_gr1.5_185001-201412.nc',\n",
       " 'CIESM': '/g/data/lp01/CMIP6/CMIP/THU/CIESM/historical/r1i1p1f1/Amon/tas/gr1.5/v20191228/tas_Amon_CIESM_historical_r1i1p1f1_gr1.5_185001-201412.nc',\n",
       " 'TaiESM1': '/g/data/lp01/CMIP6/CMIP/AS-RCEC/TaiESM1/historical/r1i1p1f1/Amon/tas/gr1.5/v20200218/tas_Amon_TaiESM1_historical_r1i1p1f1_gr1.5_185001-201412.nc',\n",
       " 'KACE-1-0-G': '/g/data/lp01/CMIP6/CMIP/NIMS-KMA/KACE-1-0-G/historical/r1i1p1f1/Amon/tas/gr1.5/v20191028/tas_Amon_KACE-1-0-G_historical_r1i1p1f1_gr1.5_185001-201412.nc',\n",
       " 'GISS-E2-1-G-CC': '/g/data/lp01/CMIP6/CMIP/NASA-GISS/GISS-E2-1-G-CC/historical/r1i1p1f1/Amon/tas/gr1.5/v20190815/tas_Amon_GISS-E2-1-G-CC_historical_r1i1p1f1_gr1.5_185001-201412.nc',\n",
       " 'GISS-E2-1-H': '/g/data/lp01/CMIP6/CMIP/NASA-GISS/GISS-E2-1-H/historical/r1i1p1f1/Amon/tas/gr1.5/v20190403/tas_Amon_GISS-E2-1-H_historical_r1i1p1f1_gr1.5_185001-201412.nc',\n",
       " 'GISS-E2-1-G': '/g/data/lp01/CMIP6/CMIP/NASA-GISS/GISS-E2-1-G/historical/r1i1p1f1/Amon/tas/gr1.5/v20180827/tas_Amon_GISS-E2-1-G_historical_r1i1p1f1_gr1.5_185001-201412.nc',\n",
       " 'AWI-CM-1-1-MR': '/g/data/lp01/CMIP6/CMIP/AWI/AWI-CM-1-1-MR/historical/r1i1p1f1/Amon/tas/gr1.5/v20191015/tas_Amon_AWI-CM-1-1-MR_historical_r1i1p1f1_gr1.5_185001-201412.nc',\n",
       " 'AWI-ESM-1-1-LR': '/g/data/lp01/CMIP6/CMIP/AWI/AWI-ESM-1-1-LR/historical/r1i1p1f1/Amon/tas/gr1.5/v20200212/tas_Amon_AWI-ESM-1-1-LR_historical_r1i1p1f1_gr1.5_185001-201412.nc',\n",
       " 'MIROC6': '/g/data/lp01/CMIP6/CMIP/MIROC/MIROC6/historical/r1i1p1f1/Amon/tas/gr1.5/v20181212/tas_Amon_MIROC6_historical_r1i1p1f1_gr1.5_185001-201412.nc',\n",
       " 'MRI-ESM2-0': '/g/data/lp01/CMIP6/CMIP/MRI/MRI-ESM2-0/historical/r1i1p1f1/Amon/tas/gr1.5/v20190222/tas_Amon_MRI-ESM2-0_historical_r1i1p1f1_gr1.5_185001-201412.nc',\n",
       " 'FIO-ESM-2-0': '/g/data/lp01/CMIP6/CMIP/FIO-QLNM/FIO-ESM-2-0/historical/r1i1p1f1/Amon/tas/gr1.5/v20191115/tas_Amon_FIO-ESM-2-0_historical_r1i1p1f1_gr1.5_185001-201412.nc',\n",
       " 'CanESM5': '/g/data/lp01/CMIP6/CMIP/CCCma/CanESM5/historical/r1i1p1f1/Amon/tas/gr1.5/v20190429/tas_Amon_CanESM5_historical_r1i1p1f1_gr1.5_185001-201412.nc',\n",
       " 'ACCESS-ESM1-5': '/g/data/lp01/CMIP6/CMIP/CSIRO/ACCESS-ESM1-5/historical/r1i1p1f1/Amon/tas/gr1.5/v20190922/tas_Amon_ACCESS-ESM1-5_historical_r1i1p1f1_gr1.5_185001-201412.nc',\n",
       " 'GFDL-CM4': '/g/data/lp01/CMIP6/CMIP/NOAA-GFDL/GFDL-CM4/historical/r1i1p1f1/Amon/tas/gr1.5/v20180701/tas_Amon_GFDL-CM4_historical_r1i1p1f1_gr1.5_185001-201412.nc',\n",
       " 'GFDL-ESM4': '/g/data/lp01/CMIP6/CMIP/NOAA-GFDL/GFDL-ESM4/historical/r1i1p1f1/Amon/tas/gr1.5/v20190726/tas_Amon_GFDL-ESM4_historical_r1i1p1f1_gr1.5_185001-201412.nc',\n",
       " 'E3SM-1-0': '/g/data/lp01/CMIP6/CMIP/E3SM-Project/E3SM-1-0/historical/r1i1p1f1/Amon/tas/gr1.5/v20190913/tas_Amon_E3SM-1-0_historical_r1i1p1f1_gr1.5_185001-201412.nc',\n",
       " 'E3SM-1-1': '/g/data/lp01/CMIP6/CMIP/E3SM-Project/E3SM-1-1/historical/r1i1p1f1/Amon/tas/gr1.5/v20191211/tas_Amon_E3SM-1-1_historical_r1i1p1f1_gr1.5_185001-201412.nc',\n",
       " 'E3SM-1-1-ECA': '/g/data/lp01/CMIP6/CMIP/E3SM-Project/E3SM-1-1-ECA/historical/r1i1p1f1/Amon/tas/gr1.5/v20200127/tas_Amon_E3SM-1-1-ECA_historical_r1i1p1f1_gr1.5_185001-201412.nc',\n",
       " 'INM-CM4-8': '/g/data/lp01/CMIP6/CMIP/INM/INM-CM4-8/historical/r1i1p1f1/Amon/tas/gr1.5/v20190530/tas_Amon_INM-CM4-8_historical_r1i1p1f1_gr1.5_185001-201412.nc',\n",
       " 'INM-CM5-0': '/g/data/lp01/CMIP6/CMIP/INM/INM-CM5-0/historical/r1i1p1f1/Amon/tas/gr1.5/v20190610/tas_Amon_INM-CM5-0_historical_r1i1p1f1_gr1.5_185001-201412.nc',\n",
       " 'EC-Earth3-Veg-LR': '/g/data/lp01/CMIP6/CMIP/EC-Earth-Consortium/EC-Earth3-Veg-LR/historical/r1i1p1f1/Amon/tas/gr1.5/v20200217/tas_Amon_EC-Earth3-Veg-LR_historical_r1i1p1f1_gr1.5_185001-201412.nc',\n",
       " 'EC-Earth3-Veg': '/g/data/lp01/CMIP6/CMIP/EC-Earth-Consortium/EC-Earth3-Veg/historical/r1i1p1f1/Amon/tas/gr1.5/v20200225/tas_Amon_EC-Earth3-Veg_historical_r1i1p1f1_gr1.5_185001-201412.nc',\n",
       " 'EC-Earth3': '/g/data/lp01/CMIP6/CMIP/EC-Earth-Consortium/EC-Earth3/historical/r1i1p1f1/Amon/tas/gr1.5/v20200310/tas_Amon_EC-Earth3_historical_r1i1p1f1_gr1.5_185001-201412.nc',\n",
       " 'NorCPM1': '/g/data/lp01/CMIP6/CMIP/NCC/NorCPM1/historical/r1i1p1f1/Amon/tas/gr1.5/v20190914/tas_Amon_NorCPM1_historical_r1i1p1f1_gr1.5_185001-201412.nc',\n",
       " 'NorESM2-LM': '/g/data/lp01/CMIP6/CMIP/NCC/NorESM2-LM/historical/r1i1p1f1/Amon/tas/gr1.5/v20190815/tas_Amon_NorESM2-LM_historical_r1i1p1f1_gr1.5_185001-201412.nc',\n",
       " 'NorESM2-MM': '/g/data/lp01/CMIP6/CMIP/NCC/NorESM2-MM/historical/r1i1p1f1/Amon/tas/gr1.5/v20191108/tas_Amon_NorESM2-MM_historical_r1i1p1f1_gr1.5_185001-201412.nc',\n",
       " 'CAMS-CSM1-0': '/g/data/lp01/CMIP6/CMIP/CAMS/CAMS-CSM1-0/historical/r1i1p1f1/Amon/tas/gr1.5/v20190708/tas_Amon_CAMS-CSM1-0_historical_r1i1p1f1_gr1.5_185001-201412.nc',\n",
       " 'CESM2': '/g/data/lp01/CMIP6/CMIP/NCAR/CESM2/historical/r1i1p1f1/Amon/tas/gr1.5/v20190308/tas_Amon_CESM2_historical_r1i1p1f1_gr1.5_185001-201412.nc',\n",
       " 'CESM2-WACCM': '/g/data/lp01/CMIP6/CMIP/NCAR/CESM2-WACCM/historical/r1i1p1f1/Amon/tas/gr1.5/v20190227/tas_Amon_CESM2-WACCM_historical_r1i1p1f1_gr1.5_185001-201412.nc',\n",
       " 'CESM2-FV2': '/g/data/lp01/CMIP6/CMIP/NCAR/CESM2-FV2/historical/r1i1p1f1/Amon/tas/gr1.5/v20191120/tas_Amon_CESM2-FV2_historical_r1i1p1f1_gr1.5_185001-201412.nc',\n",
       " 'CESM2-WACCM-FV2': '/g/data/lp01/CMIP6/CMIP/NCAR/CESM2-WACCM-FV2/historical/r1i1p1f1/Amon/tas/gr1.5/v20191120/tas_Amon_CESM2-WACCM-FV2_historical_r1i1p1f1_gr1.5_185001-201412.nc',\n",
       " 'SAM0-UNICON': '/g/data/lp01/CMIP6/CMIP/SNU/SAM0-UNICON/historical/r1i1p1f1/Amon/tas/gr1.5/v20190323/tas_Amon_SAM0-UNICON_historical_r1i1p1f1_gr1.5_185001-201412.nc'}"
      ]
     },
     "execution_count": 8,
     "metadata": {},
     "output_type": "execute_result"
    }
   ],
   "source": [
    "models"
   ]
  },
  {
   "cell_type": "code",
   "execution_count": 10,
   "metadata": {},
   "outputs": [
    {
     "data": {
      "text/plain": [
       "43"
      ]
     },
     "execution_count": 10,
     "metadata": {},
     "output_type": "execute_result"
    }
   ],
   "source": [
    "len(models)"
   ]
  },
  {
   "cell_type": "code",
   "execution_count": 11,
   "metadata": {},
   "outputs": [],
   "source": [
    "# names = []\n",
    "# ds = []\n",
    "\n",
    "# for name, path in models.items():\n",
    "#     ds.append(xr.open_mfdataset(path, combine='by_coords'))\n",
    "#     names.append(name)"
   ]
  },
  {
   "cell_type": "code",
   "execution_count": 12,
   "metadata": {},
   "outputs": [],
   "source": [
    "# Now open each dataset, and store the dataset and model name in two arrays\n",
    "# The try-except method allows all other files to be read even if one file does not exist or has some issues. \n",
    "names = []\n",
    "ds = []\n",
    "    \n",
    "for name, path in models.items():\n",
    "    try:\n",
    "        ds.append(xr.open_mfdataset(path, combine='by_coords'))\n",
    "        names.append(name)\n",
    "    except OSError:\n",
    "        # No files read, move on to the next\n",
    "        continue\n",
    "\n"
   ]
  },
  {
   "cell_type": "code",
   "execution_count": null,
   "metadata": {},
   "outputs": [],
   "source": [
    "print(ds)"
   ]
  },
  {
   "cell_type": "code",
   "execution_count": 14,
   "metadata": {},
   "outputs": [],
   "source": [
    "# Combine the individual data sets into a single dataset, with the co-ordinate \n",
    "# 'model' representing the source model\n",
    "# By using a for loop with try-except and deleting the time and height coordinates we are removing any differences in \n",
    "# height and time.  (We can add the time back later). \n",
    "for name, path in models.items():\n",
    "    try:\n",
    "        d = xr.open_mfdataset(path, combine='by_coords')\n",
    "        del d['time']\n",
    "        #del d['height']\n",
    "        ds.append(d)\n",
    "        names.append(name)\n",
    "    except OSError:\n",
    "        # No files read, move on to the next\n",
    "        continue\n"
   ]
  },
  {
   "cell_type": "code",
   "execution_count": null,
   "metadata": {},
   "outputs": [],
   "source": [
    "# # Combine the individual data sets into a single dataset, with the co-ordinate\n",
    "# # 'model' representing the source model\n",
    "\n",
    "# multi_model = xr.concat(ds, dim='model')\n",
    "# multi_model.coords['model'] = names\n",
    "\n",
    "# multi_model"
   ]
  },
  {
   "cell_type": "code",
   "execution_count": null,
   "metadata": {},
   "outputs": [],
   "source": []
  },
  {
   "cell_type": "code",
   "execution_count": null,
   "metadata": {},
   "outputs": [],
   "source": [
    "# A dictionary with the paths to the data for each model\n",
    "# In reality these runs are not compatible (they use different calendars)\n",
    "# so the paths here are not correct\n",
    "\n",
    "dictionary = {\n",
    "    'AS-RCEC':'/g/data/lp01/CMIP6/CMIP/AS-RCEC/TaiESM1/historical/r1i1p1f1/Amon/tas/gr1.5/v20200218/*.nc',\n",
    "    'BCC-CSM2-MR':'/g/data/lp01/CMIP6/CMIP/BCC/BCC-CSM2-MR/historical/r1i1p1f1/Amon/tas/gr1.5/v20181126/*.nc',\n",
    "    'BCC-ESM1':'/g/data/lp01/CMIP6/CMIP/BCC/BCC-ESM1/historical/r1i1p1f1/Amon/tas/gr1.5/v20181214/*.nc',\n",
    "    'CAMS':'/g/data/lp01/CMIP6/CMIP/CAMS/CAMS-CSM1-0/historical/r1i1p1f1/Amon/tas/gr1.5/v20190708/*.nc',\n",
    "    \n",
    "}"
   ]
  },
  {
   "cell_type": "code",
   "execution_count": null,
   "metadata": {},
   "outputs": [],
   "source": [
    "dictionary"
   ]
  },
  {
   "cell_type": "code",
   "execution_count": null,
   "metadata": {},
   "outputs": [],
   "source": [
    "# You can loop over the names and values in a dictionary\n",
    "\n",
    "for name, path in dictionary.items():\n",
    "    print(name, path)"
   ]
  },
  {
   "cell_type": "code",
   "execution_count": null,
   "metadata": {},
   "outputs": [],
   "source": [
    "# Now open each dataset, and store the dataset and model name in two arrays\n",
    "\n",
    "names = []\n",
    "ds = []\n",
    "for name, path in dictionary.items():\n",
    "    ds.append(xr.open_mfdataset(path, combine='by_coords'))\n",
    "    names.append(name)"
   ]
  },
  {
   "cell_type": "code",
   "execution_count": null,
   "metadata": {
    "scrolled": true
   },
   "outputs": [],
   "source": [
    "# Combine the individual data sets into a single dataset, with the co-ordinate\n",
    "# 'model' representing the source model\n",
    "\n",
    "multi_model = xr.concat(ds, dim='model')\n",
    "multi_model.coords['model'] = names\n",
    "\n",
    "multi_model"
   ]
  },
  {
   "cell_type": "markdown",
   "metadata": {},
   "source": [
    "Right now I have all the models stored in one array so from hereafter I can calculate anomalies etc.  "
   ]
  },
  {
   "cell_type": "code",
   "execution_count": null,
   "metadata": {},
   "outputs": [],
   "source": [
    "# calculate an anomaly for each model\n",
    "count=0\n",
    "\n",
    "for model in multi_model:\n",
    "    count = count+1\n",
    "    print(count)\n",
    "\n",
    "tas_aus = multi_model.tas.sel(lat=slice(-50,-5), lon=slice(110,160))b"
   ]
  },
  {
   "cell_type": "code",
   "execution_count": null,
   "metadata": {},
   "outputs": [],
   "source": [
    "tas_aus"
   ]
  },
  {
   "cell_type": "code",
   "execution_count": null,
   "metadata": {
    "scrolled": true
   },
   "outputs": [],
   "source": [
    "func.monthly_anom(tas_aus, '18500101', '19001231')"
   ]
  },
  {
   "cell_type": "code",
   "execution_count": null,
   "metadata": {
    "scrolled": false
   },
   "outputs": [],
   "source": [
    "# calculate monthly anomalies\n",
    "# group the data into months\n",
    "tas_aus_mon = multi_model.tas.groupby('time.month')\n",
    "# calculate the mean climatology along each month for the time period 1850-1900 \n",
    "tas_aus_clim = multi_model.tas.sel(time=slice('18500101','19001231')).groupby('time.month').mean(dim='time')\n",
    "# caclulate the anomalies for each month\n",
    "tas_anom_mon = (tas_aus_mon - tas_aus_clim)\n",
    "tas_anom_mon.mean(dim=('lat','lon')).plot"
   ]
  },
  {
   "cell_type": "code",
   "execution_count": null,
   "metadata": {},
   "outputs": [],
   "source": [
    "print(tas_anom_mon.mean(dim=('lat','lon')))\n"
   ]
  },
  {
   "cell_type": "code",
   "execution_count": null,
   "metadata": {},
   "outputs": [],
   "source": [
    "# plot the temperature anomalies for each month throughout the time period\n",
    "fig, ax = plt.subplots() # make a figure\n",
    "\n",
    "tas_anom_mon.plot(color = 'red', ax=ax) #plot the anomalies\n",
    "plt.title('Monthly temperature anomalies', fontsize=16)\n",
    "plt.ylabel('Temperature anomaly [C]') # this overrides the label which comes on automatically using the xarray title\n",
    "\n",
    "ax.grid(which='major', linestyle='-', linewidth='0.5', color='black') # customise major grid\n",
    "ax.minorticks_on() # need this line in order to get the minor grid lines \n",
    "ax.grid(which='minor', linestyle=':', linewidth='0.5', color='black')\n",
    "\n",
    "fig.set_figheight(8) # these two parameters change the figure height and width \n",
    "fig.set_figwidth(15)\n",
    "#fig.suptitle('example figure title', fontsize=16)"
   ]
  },
  {
   "cell_type": "code",
   "execution_count": null,
   "metadata": {},
   "outputs": [],
   "source": [
    "# Mean over the model co-ordinate\n",
    "\n",
    "multi_model.mean('model')"
   ]
  },
  {
   "cell_type": "code",
   "execution_count": null,
   "metadata": {},
   "outputs": [],
   "source": []
  }
 ],
 "metadata": {
  "kernelspec": {
   "display_name": "Python 3",
   "language": "python",
   "name": "python3"
  },
  "language_info": {
   "codemirror_mode": {
    "name": "ipython",
    "version": 3
   },
   "file_extension": ".py",
   "mimetype": "text/x-python",
   "name": "python",
   "nbconvert_exporter": "python",
   "pygments_lexer": "ipython3",
   "version": "3.7.6"
  }
 },
 "nbformat": 4,
 "nbformat_minor": 4
}
